{
 "cells": [
  {
   "cell_type": "code",
   "execution_count": 3,
   "id": "1d4426d2",
   "metadata": {},
   "outputs": [],
   "source": [
    "import tensorflow as tf\n",
    "import matplotlib.pyplot as plt\n",
    "import numpy as np\n",
    "import pandas as pd\n",
    "from tensorflow import keras\n",
    "#from keras import optimizers, Sequential\n",
    "from keras.utils import plot_model\n",
    "from keras.layers import Dense, LSTM, RepeatVector, TimeDistributed\n",
    "from keras.callbacks import ModelCheckpoint, TensorBoard\n",
    "from sklearn.metrics import accuracy_score, precision_score, recall_score, f1_score\n",
    "from imblearn.over_sampling import SMOTE\n",
    "from sklearn.linear_model import LogisticRegression\n",
    "from sklearn.ensemble import AdaBoostClassifier\n",
    "from tensorflow.keras import layers, losses\n",
    "from sklearn.model_selection import train_test_split\n",
    "from tensorflow.keras.models import Model"
   ]
  },
  {
   "cell_type": "code",
   "execution_count": 2,
   "id": "e631b831",
   "metadata": {
    "scrolled": true
   },
   "outputs": [
    {
     "name": "stdout",
     "output_type": "stream",
     "text": [
      "2.4.0\n"
     ]
    }
   ],
   "source": [
    "print(tf.__version__)"
   ]
  },
  {
   "cell_type": "code",
   "execution_count": 4,
   "id": "c3667fd8",
   "metadata": {},
   "outputs": [],
   "source": [
    "def get_accuracy(AL, y, classifier, verbose=1):\n",
    "    \n",
    "    try:\n",
    "        AL = np.array(AL)\n",
    "        y = np.array(y)\n",
    "\n",
    "        AL = AL.reshape(-1)\n",
    "        y = y.reshape(-1)\n",
    "\n",
    "        AL = AL > 0.5\n",
    "        AL = AL.astype(int)\n",
    "\n",
    "        y = y > 0.5\n",
    "        y = y.astype(int)\n",
    "\n",
    "        total = AL.shape[0]\n",
    "\n",
    "        TP = np.sum(np.logical_and(AL==1, y==1))\n",
    "        TN = np.sum(np.logical_and(AL==0, y==0))\n",
    "\n",
    "        FP = np.sum(np.logical_and(AL==1, y==0))\n",
    "        FN = np.sum(np.logical_and(AL==0, y==1))\n",
    "\n",
    "        P = TP / (TP + FP)\n",
    "        R = TP / (TP + FN)\n",
    "        F1 = (2 * P * R) / (P + R)\n",
    "\n",
    "\n",
    "        ACC = np.sum(AL == y)/total\n",
    "\n",
    "\n",
    "        if verbose == 1:\n",
    "            print(\"\\nAccuracy: {} \\n\".format(ACC))\n",
    "            print(\"True Positive: {} \\nTrue Negative: {}\\nFalse Positive: {} \\nFalse Negative: {}\\n\".format(TP,TN, FP, FN))\n",
    "            print(\"Precision: {} \\nRecall: {} \\nF1 Score: {}\\n\".format(P, R, F1))\n",
    "            \n",
    "        return 1\n",
    "    except:\n",
    "        return 0"
   ]
  },
  {
   "cell_type": "code",
   "execution_count": 392,
   "id": "3f144ff9",
   "metadata": {
    "scrolled": true
   },
   "outputs": [],
   "source": [
    "social1 = pd.read_csv('social_spambots_1.csv')\n",
    "social2 = pd.read_csv('social_spambots_2.csv')\n",
    "social3 = pd.read_csv('social_spambots_3.csv')\n",
    "traditional1 = pd.read_csv('traditional_spambots_1.csv')\n",
    "traditional2 = pd.read_csv('traditional_spambots_2.csv') \n",
    "fake = pd.read_csv('fake_followers.csv')\n",
    "genuine = pd.read_csv('genuine_accounts.csv')\n",
    "\n",
    "requiredColumns = ['created_at', 'updated', 'statuses_count', 'friends_count', 'followers_count', 'favourites_count', \n",
    "                   'default_profile', 'geo_enabled']\n",
    "social1 = social1[requiredColumns]\n",
    "social2 = social2[requiredColumns]\n",
    "social3 = social3[requiredColumns]\n",
    "traditional1 = traditional1[requiredColumns]\n",
    "traditional2 = traditional2[requiredColumns]\n",
    "fake = fake[requiredColumns]\n",
    "genuine = genuine[requiredColumns]\n",
    "\n",
    "def clean_df(df):\n",
    "    df['created_at'] = pd.to_datetime(df['created_at'].tolist(),errors='coerce').astype('datetime64[ns]')\n",
    "    df['updated'] = pd.to_datetime(df['updated'].tolist(),errors='coerce').astype('datetime64[ns]')\n",
    "    df['age'] = (df['updated'] - df['created_at']).astype('timedelta64[D]').fillna(0).astype(np.int64)\n",
    "    df['geo_located'] = df['geo_enabled'].apply(lambda x: 1 if x==x else 0)\n",
    "    df['default_profile'] = df['default_profile'].apply(lambda x: 1 if x==x else 0)\n",
    "    \n",
    "    val = []\n",
    "    for i in df['followers_count']:\n",
    "        if i<30:\n",
    "            val.append(1)\n",
    "        else:\n",
    "            val.append(0)\n",
    "    df['less_than_30_followers'] = val\n",
    "    \n",
    "    val = []\n",
    "    for i in df['statuses_count']:\n",
    "        if i<50:\n",
    "            val.append(1)\n",
    "        else:\n",
    "            val.append(0)\n",
    "    df['less_than_50_tweets'] = val\n",
    "    \n",
    "    val = []\n",
    "    for i in df['followers_count']:\n",
    "        if i>1000:\n",
    "            val.append(1)\n",
    "        else:\n",
    "            val.append(0)\n",
    "    df['more_than_1000_followers'] = val\n",
    "    \n",
    "    val = []\n",
    "    for i,j in zip(df['friends_count'], df['followers_count']):\n",
    "        if j==0:\n",
    "            j=1\n",
    "        if i/j>=100:\n",
    "            val.append(1)\n",
    "        else:\n",
    "            val.append(0)\n",
    "    df['following_to_followers'] = val\n",
    "    \n",
    "    df = df.rename(index=str, columns={\"statuses_count\": \"total_tweets\", \"friends_count\": \"total_following\", \n",
    "                                       \"followers_count\": \"total_followers\", \"favourites_count\": \"total_likes\"})\n",
    "    \n",
    "    return df[['age', 'total_tweets', 'total_following', 'total_followers', 'total_likes', 'geo_located', \n",
    "               'default_profile', 'less_than_30_followers', 'less_than_50_tweets', 'more_than_1000_followers', \n",
    "               'following_to_followers']]\n",
    "\n",
    "social1 = clean_df(social1)\n",
    "social2 = clean_df(social2)\n",
    "social3 = clean_df(social3)\n",
    "traditional1 = clean_df(traditional1)\n",
    "traditional2 = clean_df(traditional2)\n",
    "fake = clean_df(fake)\n",
    "human_accounts = clean_df(genuine)\n",
    "\n",
    "combine = pd.concat([social1, social2, social3, traditional1, traditional2, fake])\n",
    "bot_accounts = combine.sample(frac=1).reset_index(drop=True)"
   ]
  },
  {
   "cell_type": "code",
   "execution_count": 393,
   "id": "d76d917c",
   "metadata": {},
   "outputs": [
    {
     "data": {
      "text/plain": [
       "((9363, 11), (3474, 11))"
      ]
     },
     "execution_count": 393,
     "metadata": {},
     "output_type": "execute_result"
    }
   ],
   "source": [
    "from sklearn import preprocessing\n",
    "\n",
    "def scale_df(df):\n",
    "    scaler = preprocessing.MinMaxScaler()\n",
    "    names = ['age', 'total_tweets', 'total_following', 'total_followers', 'total_likes']\n",
    "    df[names] = scaler.fit_transform(df[names])\n",
    "    return df\n",
    "\n",
    "bot_accounts = scale_df(bot_accounts)\n",
    "human_accounts = scale_df(human_accounts)\n",
    "bot_accounts.shape, human_accounts.shape"
   ]
  },
  {
   "cell_type": "code",
   "execution_count": 394,
   "id": "ca0f48ff",
   "metadata": {},
   "outputs": [
    {
     "data": {
      "text/plain": [
       "(655, 11)"
      ]
     },
     "execution_count": 394,
     "metadata": {},
     "output_type": "execute_result"
    }
   ],
   "source": [
    "#Bot accounts undersampled to meet Bot to Human ratio of 15%\n",
    "bot_accounts = bot_accounts.sample(frac=0.07)\n",
    "bot_accounts.shape"
   ]
  },
  {
   "cell_type": "code",
   "execution_count": 395,
   "id": "67f3ff48",
   "metadata": {},
   "outputs": [
    {
     "data": {
      "text/html": [
       "<div>\n",
       "<style scoped>\n",
       "    .dataframe tbody tr th:only-of-type {\n",
       "        vertical-align: middle;\n",
       "    }\n",
       "\n",
       "    .dataframe tbody tr th {\n",
       "        vertical-align: top;\n",
       "    }\n",
       "\n",
       "    .dataframe thead th {\n",
       "        text-align: right;\n",
       "    }\n",
       "</style>\n",
       "<table border=\"1\" class=\"dataframe\">\n",
       "  <thead>\n",
       "    <tr style=\"text-align: right;\">\n",
       "      <th></th>\n",
       "      <th>age</th>\n",
       "      <th>total_tweets</th>\n",
       "      <th>total_following</th>\n",
       "      <th>total_followers</th>\n",
       "      <th>total_likes</th>\n",
       "      <th>geo_located</th>\n",
       "      <th>default_profile</th>\n",
       "      <th>less_than_30_followers</th>\n",
       "      <th>less_than_50_tweets</th>\n",
       "      <th>more_than_1000_followers</th>\n",
       "      <th>following_to_followers</th>\n",
       "      <th>Label</th>\n",
       "    </tr>\n",
       "  </thead>\n",
       "  <tbody>\n",
       "    <tr>\n",
       "      <th>0</th>\n",
       "      <td>0.539867</td>\n",
       "      <td>0.011373</td>\n",
       "      <td>0.008270</td>\n",
       "      <td>0.000407</td>\n",
       "      <td>0.007492</td>\n",
       "      <td>1</td>\n",
       "      <td>0</td>\n",
       "      <td>0</td>\n",
       "      <td>0</td>\n",
       "      <td>0</td>\n",
       "      <td>0</td>\n",
       "      <td>0</td>\n",
       "    </tr>\n",
       "    <tr>\n",
       "      <th>1</th>\n",
       "      <td>0.346512</td>\n",
       "      <td>0.028319</td>\n",
       "      <td>0.002375</td>\n",
       "      <td>0.000276</td>\n",
       "      <td>0.071772</td>\n",
       "      <td>1</td>\n",
       "      <td>0</td>\n",
       "      <td>0</td>\n",
       "      <td>0</td>\n",
       "      <td>0</td>\n",
       "      <td>0</td>\n",
       "      <td>0</td>\n",
       "    </tr>\n",
       "    <tr>\n",
       "      <th>2</th>\n",
       "      <td>0.021595</td>\n",
       "      <td>0.000964</td>\n",
       "      <td>0.001425</td>\n",
       "      <td>0.000024</td>\n",
       "      <td>0.000688</td>\n",
       "      <td>0</td>\n",
       "      <td>1</td>\n",
       "      <td>1</td>\n",
       "      <td>0</td>\n",
       "      <td>0</td>\n",
       "      <td>0</td>\n",
       "      <td>0</td>\n",
       "    </tr>\n",
       "    <tr>\n",
       "      <th>3</th>\n",
       "      <td>0.000000</td>\n",
       "      <td>0.000079</td>\n",
       "      <td>0.009069</td>\n",
       "      <td>0.000358</td>\n",
       "      <td>0.000000</td>\n",
       "      <td>0</td>\n",
       "      <td>0</td>\n",
       "      <td>0</td>\n",
       "      <td>1</td>\n",
       "      <td>0</td>\n",
       "      <td>0</td>\n",
       "      <td>1</td>\n",
       "    </tr>\n",
       "    <tr>\n",
       "      <th>4</th>\n",
       "      <td>0.647841</td>\n",
       "      <td>0.024347</td>\n",
       "      <td>0.006716</td>\n",
       "      <td>0.000398</td>\n",
       "      <td>0.013015</td>\n",
       "      <td>1</td>\n",
       "      <td>0</td>\n",
       "      <td>0</td>\n",
       "      <td>0</td>\n",
       "      <td>0</td>\n",
       "      <td>0</td>\n",
       "      <td>0</td>\n",
       "    </tr>\n",
       "  </tbody>\n",
       "</table>\n",
       "</div>"
      ],
      "text/plain": [
       "        age  total_tweets  total_following  total_followers  total_likes  \\\n",
       "0  0.539867      0.011373         0.008270         0.000407     0.007492   \n",
       "1  0.346512      0.028319         0.002375         0.000276     0.071772   \n",
       "2  0.021595      0.000964         0.001425         0.000024     0.000688   \n",
       "3  0.000000      0.000079         0.009069         0.000358     0.000000   \n",
       "4  0.647841      0.024347         0.006716         0.000398     0.013015   \n",
       "\n",
       "   geo_located  default_profile  less_than_30_followers  less_than_50_tweets  \\\n",
       "0            1                0                       0                    0   \n",
       "1            1                0                       0                    0   \n",
       "2            0                1                       1                    0   \n",
       "3            0                0                       0                    1   \n",
       "4            1                0                       0                    0   \n",
       "\n",
       "   more_than_1000_followers  following_to_followers  Label  \n",
       "0                         0                       0      0  \n",
       "1                         0                       0      0  \n",
       "2                         0                       0      0  \n",
       "3                         0                       0      1  \n",
       "4                         0                       0      0  "
      ]
     },
     "execution_count": 395,
     "metadata": {},
     "output_type": "execute_result"
    }
   ],
   "source": [
    "bot_accounts['Label'] = 1\n",
    "human_accounts['Label'] = 0\n",
    "\n",
    "combined_df = pd.concat([bot_accounts, human_accounts])\n",
    "\n",
    "df = combined_df.sample(frac=1).reset_index(drop=True)\n",
    "\n",
    "df.head()"
   ]
  },
  {
   "cell_type": "code",
   "execution_count": 396,
   "id": "7c05280e",
   "metadata": {},
   "outputs": [],
   "source": [
    "data = df.iloc[:,:-1].values\n",
    "labels = df.iloc[:,-1].values"
   ]
  },
  {
   "cell_type": "code",
   "execution_count": 397,
   "id": "390b1f67",
   "metadata": {},
   "outputs": [],
   "source": [
    "train_data, test_data, train_labels, test_labels = train_test_split(data, labels, test_size = 0.2, random_state = 21)"
   ]
  },
  {
   "cell_type": "code",
   "execution_count": 398,
   "id": "2391c6dd",
   "metadata": {},
   "outputs": [
    {
     "data": {
      "text/plain": [
       "((3303, 11), (826, 11))"
      ]
     },
     "execution_count": 398,
     "metadata": {},
     "output_type": "execute_result"
    }
   ],
   "source": [
    "train_data.shape, test_data.shape"
   ]
  },
  {
   "cell_type": "code",
   "execution_count": 399,
   "id": "9772daf3",
   "metadata": {},
   "outputs": [],
   "source": [
    "normal_train_data = train_data[train_labels==0]   # means it is human\n",
    "normal_test_data = test_data[test_labels==0]\n",
    "\n",
    "anomalous_train_data = train_data[train_labels==1]   #means it is bot\n",
    "anomalous_test_data = test_data[test_labels==1]"
   ]
  },
  {
   "cell_type": "code",
   "execution_count": 400,
   "id": "e70d1906",
   "metadata": {},
   "outputs": [],
   "source": [
    "class AnomalyDetector(Model):\n",
    "    def __init__(self):\n",
    "        super(AnomalyDetector, self).__init__()\n",
    "        self.encoder = tf.keras.Sequential([layers.Dense(256, activation=\"relu\"), \n",
    "                                            layers.Dense(16, activation=\"relu\"), \n",
    "                                            layers.Dense(2, activation=\"relu\")])\n",
    "        self.decoder = tf.keras.Sequential([layers.Dense(16, activation=\"relu\"), \n",
    "                                            layers.Dense(256, activation=\"relu\"), \n",
    "                                            layers.Dense(11, activation=\"sigmoid\")])\n",
    "    def call(self, x): \n",
    "        encoded = self.encoder(x)\n",
    "        decoded = self.decoder(encoded)\n",
    "        return decoded\n",
    "\n",
    "autoencoder = AnomalyDetector()\n",
    "autoencoder.compile(optimizer='adam', loss='mae')"
   ]
  },
  {
   "cell_type": "code",
   "execution_count": 401,
   "id": "445f7b7d",
   "metadata": {
    "scrolled": true
   },
   "outputs": [
    {
     "name": "stdout",
     "output_type": "stream",
     "text": [
      "Epoch 1/100\n",
      "1/1 [==============================] - 1s 1s/step - loss: 0.4675 - val_loss: 0.4689\n",
      "Epoch 2/100\n",
      "1/1 [==============================] - 0s 81ms/step - loss: 0.4666 - val_loss: 0.4678\n",
      "Epoch 3/100\n",
      "1/1 [==============================] - 0s 86ms/step - loss: 0.4655 - val_loss: 0.4665\n",
      "Epoch 4/100\n",
      "1/1 [==============================] - 0s 81ms/step - loss: 0.4642 - val_loss: 0.4651\n",
      "Epoch 5/100\n",
      "1/1 [==============================] - 0s 92ms/step - loss: 0.4627 - val_loss: 0.4634\n",
      "Epoch 6/100\n",
      "1/1 [==============================] - 0s 94ms/step - loss: 0.4611 - val_loss: 0.4615\n",
      "Epoch 7/100\n",
      "1/1 [==============================] - 0s 83ms/step - loss: 0.4592 - val_loss: 0.4594\n",
      "Epoch 8/100\n",
      "1/1 [==============================] - 0s 83ms/step - loss: 0.4570 - val_loss: 0.4570\n",
      "Epoch 9/100\n",
      "1/1 [==============================] - 0s 83ms/step - loss: 0.4545 - val_loss: 0.4542\n",
      "Epoch 10/100\n",
      "1/1 [==============================] - 0s 77ms/step - loss: 0.4517 - val_loss: 0.4511\n",
      "Epoch 11/100\n",
      "1/1 [==============================] - 0s 88ms/step - loss: 0.4485 - val_loss: 0.4476\n",
      "Epoch 12/100\n",
      "1/1 [==============================] - 0s 80ms/step - loss: 0.4450 - val_loss: 0.4437\n",
      "Epoch 13/100\n",
      "1/1 [==============================] - 0s 85ms/step - loss: 0.4410 - val_loss: 0.4393\n",
      "Epoch 14/100\n",
      "1/1 [==============================] - 0s 84ms/step - loss: 0.4365 - val_loss: 0.4344\n",
      "Epoch 15/100\n",
      "1/1 [==============================] - 0s 85ms/step - loss: 0.4316 - val_loss: 0.4290\n",
      "Epoch 16/100\n",
      "1/1 [==============================] - 0s 78ms/step - loss: 0.4260 - val_loss: 0.4230\n",
      "Epoch 17/100\n",
      "1/1 [==============================] - 0s 78ms/step - loss: 0.4198 - val_loss: 0.4162\n",
      "Epoch 18/100\n",
      "1/1 [==============================] - 0s 86ms/step - loss: 0.4129 - val_loss: 0.4088\n",
      "Epoch 19/100\n",
      "1/1 [==============================] - 0s 79ms/step - loss: 0.4052 - val_loss: 0.4005\n",
      "Epoch 20/100\n",
      "1/1 [==============================] - 0s 81ms/step - loss: 0.3967 - val_loss: 0.3913\n",
      "Epoch 21/100\n",
      "1/1 [==============================] - 0s 85ms/step - loss: 0.3873 - val_loss: 0.3813\n",
      "Epoch 22/100\n",
      "1/1 [==============================] - 0s 86ms/step - loss: 0.3769 - val_loss: 0.3704\n",
      "Epoch 23/100\n",
      "1/1 [==============================] - 0s 91ms/step - loss: 0.3656 - val_loss: 0.3586\n",
      "Epoch 24/100\n",
      "1/1 [==============================] - 0s 84ms/step - loss: 0.3533 - val_loss: 0.3459\n",
      "Epoch 25/100\n",
      "1/1 [==============================] - 0s 84ms/step - loss: 0.3400 - val_loss: 0.3323\n",
      "Epoch 26/100\n",
      "1/1 [==============================] - 0s 82ms/step - loss: 0.3257 - val_loss: 0.3179\n",
      "Epoch 27/100\n",
      "1/1 [==============================] - 0s 80ms/step - loss: 0.3105 - val_loss: 0.3027\n",
      "Epoch 28/100\n",
      "1/1 [==============================] - 0s 87ms/step - loss: 0.2944 - val_loss: 0.2870\n",
      "Epoch 29/100\n",
      "1/1 [==============================] - 0s 82ms/step - loss: 0.2776 - val_loss: 0.2709\n",
      "Epoch 30/100\n",
      "1/1 [==============================] - 0s 84ms/step - loss: 0.2604 - val_loss: 0.2548\n",
      "Epoch 31/100\n",
      "1/1 [==============================] - 0s 85ms/step - loss: 0.2430 - val_loss: 0.2390\n",
      "Epoch 32/100\n",
      "1/1 [==============================] - 0s 82ms/step - loss: 0.2258 - val_loss: 0.2237\n",
      "Epoch 33/100\n",
      "1/1 [==============================] - 0s 81ms/step - loss: 0.2091 - val_loss: 0.2093\n",
      "Epoch 34/100\n",
      "1/1 [==============================] - 0s 86ms/step - loss: 0.1933 - val_loss: 0.1962\n",
      "Epoch 35/100\n",
      "1/1 [==============================] - 0s 79ms/step - loss: 0.1787 - val_loss: 0.1845\n",
      "Epoch 36/100\n",
      "1/1 [==============================] - 0s 88ms/step - loss: 0.1655 - val_loss: 0.1743\n",
      "Epoch 37/100\n",
      "1/1 [==============================] - 0s 80ms/step - loss: 0.1540 - val_loss: 0.1658\n",
      "Epoch 38/100\n",
      "1/1 [==============================] - 0s 87ms/step - loss: 0.1442 - val_loss: 0.1587\n",
      "Epoch 39/100\n",
      "1/1 [==============================] - 0s 75ms/step - loss: 0.1361 - val_loss: 0.1531\n",
      "Epoch 40/100\n",
      "1/1 [==============================] - 0s 78ms/step - loss: 0.1295 - val_loss: 0.1488\n",
      "Epoch 41/100\n",
      "1/1 [==============================] - 0s 87ms/step - loss: 0.1243 - val_loss: 0.1456\n",
      "Epoch 42/100\n",
      "1/1 [==============================] - 0s 82ms/step - loss: 0.1204 - val_loss: 0.1433\n",
      "Epoch 43/100\n",
      "1/1 [==============================] - 0s 81ms/step - loss: 0.1174 - val_loss: 0.1416\n",
      "Epoch 44/100\n",
      "1/1 [==============================] - 0s 79ms/step - loss: 0.1153 - val_loss: 0.1403\n",
      "Epoch 45/100\n",
      "1/1 [==============================] - 0s 76ms/step - loss: 0.1137 - val_loss: 0.1391\n",
      "Epoch 46/100\n",
      "1/1 [==============================] - 0s 80ms/step - loss: 0.1124 - val_loss: 0.1380\n",
      "Epoch 47/100\n",
      "1/1 [==============================] - 0s 72ms/step - loss: 0.1113 - val_loss: 0.1369\n",
      "Epoch 48/100\n",
      "1/1 [==============================] - 0s 81ms/step - loss: 0.1104 - val_loss: 0.1360\n",
      "Epoch 49/100\n",
      "1/1 [==============================] - 0s 83ms/step - loss: 0.1097 - val_loss: 0.1353\n",
      "Epoch 50/100\n",
      "1/1 [==============================] - 0s 78ms/step - loss: 0.1092 - val_loss: 0.1348\n",
      "Epoch 51/100\n",
      "1/1 [==============================] - 0s 85ms/step - loss: 0.1089 - val_loss: 0.1344\n",
      "Epoch 52/100\n",
      "1/1 [==============================] - 0s 83ms/step - loss: 0.1087 - val_loss: 0.1341\n",
      "Epoch 53/100\n",
      "1/1 [==============================] - 0s 85ms/step - loss: 0.1084 - val_loss: 0.1339\n",
      "Epoch 54/100\n",
      "1/1 [==============================] - 0s 80ms/step - loss: 0.1081 - val_loss: 0.1338\n",
      "Epoch 55/100\n",
      "1/1 [==============================] - 0s 93ms/step - loss: 0.1078 - val_loss: 0.1338\n",
      "Epoch 56/100\n",
      "1/1 [==============================] - 0s 82ms/step - loss: 0.1076 - val_loss: 0.1339\n",
      "Epoch 57/100\n",
      "1/1 [==============================] - 0s 79ms/step - loss: 0.1075 - val_loss: 0.1338\n",
      "Epoch 58/100\n",
      "1/1 [==============================] - 0s 89ms/step - loss: 0.1074 - val_loss: 0.1336\n",
      "Epoch 59/100\n",
      "1/1 [==============================] - 0s 87ms/step - loss: 0.1072 - val_loss: 0.1332\n",
      "Epoch 60/100\n",
      "1/1 [==============================] - 0s 83ms/step - loss: 0.1069 - val_loss: 0.1327\n",
      "Epoch 61/100\n",
      "1/1 [==============================] - 0s 86ms/step - loss: 0.1068 - val_loss: 0.1325\n",
      "Epoch 62/100\n",
      "1/1 [==============================] - 0s 84ms/step - loss: 0.1067 - val_loss: 0.1322\n",
      "Epoch 63/100\n",
      "1/1 [==============================] - 0s 86ms/step - loss: 0.1066 - val_loss: 0.1321\n",
      "Epoch 64/100\n",
      "1/1 [==============================] - 0s 76ms/step - loss: 0.1064 - val_loss: 0.1320\n",
      "Epoch 65/100\n",
      "1/1 [==============================] - 0s 83ms/step - loss: 0.1062 - val_loss: 0.1319\n",
      "Epoch 66/100\n",
      "1/1 [==============================] - 0s 84ms/step - loss: 0.1061 - val_loss: 0.1319\n",
      "Epoch 67/100\n",
      "1/1 [==============================] - 0s 84ms/step - loss: 0.1060 - val_loss: 0.1318\n",
      "Epoch 68/100\n",
      "1/1 [==============================] - 0s 88ms/step - loss: 0.1059 - val_loss: 0.1316\n",
      "Epoch 69/100\n",
      "1/1 [==============================] - 0s 82ms/step - loss: 0.1057 - val_loss: 0.1313\n",
      "Epoch 70/100\n",
      "1/1 [==============================] - 0s 80ms/step - loss: 0.1055 - val_loss: 0.1310\n",
      "Epoch 71/100\n",
      "1/1 [==============================] - 0s 80ms/step - loss: 0.1054 - val_loss: 0.1308\n",
      "Epoch 72/100\n",
      "1/1 [==============================] - 0s 79ms/step - loss: 0.1052 - val_loss: 0.1305\n",
      "Epoch 73/100\n",
      "1/1 [==============================] - 0s 77ms/step - loss: 0.1051 - val_loss: 0.1304\n",
      "Epoch 74/100\n",
      "1/1 [==============================] - 0s 79ms/step - loss: 0.1049 - val_loss: 0.1303\n",
      "Epoch 75/100\n",
      "1/1 [==============================] - 0s 81ms/step - loss: 0.1047 - val_loss: 0.1301\n",
      "Epoch 76/100\n",
      "1/1 [==============================] - 0s 83ms/step - loss: 0.1046 - val_loss: 0.1300\n",
      "Epoch 77/100\n",
      "1/1 [==============================] - 0s 82ms/step - loss: 0.1044 - val_loss: 0.1298\n",
      "Epoch 78/100\n",
      "1/1 [==============================] - 0s 86ms/step - loss: 0.1042 - val_loss: 0.1295\n",
      "Epoch 79/100\n",
      "1/1 [==============================] - 0s 83ms/step - loss: 0.1041 - val_loss: 0.1292\n",
      "Epoch 80/100\n",
      "1/1 [==============================] - 0s 78ms/step - loss: 0.1039 - val_loss: 0.1290\n",
      "Epoch 81/100\n",
      "1/1 [==============================] - 0s 76ms/step - loss: 0.1037 - val_loss: 0.1288\n",
      "Epoch 82/100\n",
      "1/1 [==============================] - 0s 73ms/step - loss: 0.1035 - val_loss: 0.1286\n",
      "Epoch 83/100\n",
      "1/1 [==============================] - 0s 73ms/step - loss: 0.1032 - val_loss: 0.1284\n"
     ]
    },
    {
     "name": "stdout",
     "output_type": "stream",
     "text": [
      "Epoch 84/100\n",
      "1/1 [==============================] - 0s 79ms/step - loss: 0.1030 - val_loss: 0.1282\n",
      "Epoch 85/100\n",
      "1/1 [==============================] - 0s 81ms/step - loss: 0.1028 - val_loss: 0.1280\n",
      "Epoch 86/100\n",
      "1/1 [==============================] - 0s 80ms/step - loss: 0.1026 - val_loss: 0.1277\n",
      "Epoch 87/100\n",
      "1/1 [==============================] - 0s 82ms/step - loss: 0.1023 - val_loss: 0.1274\n",
      "Epoch 88/100\n",
      "1/1 [==============================] - 0s 82ms/step - loss: 0.1021 - val_loss: 0.1271\n",
      "Epoch 89/100\n",
      "1/1 [==============================] - 0s 84ms/step - loss: 0.1018 - val_loss: 0.1269\n",
      "Epoch 90/100\n",
      "1/1 [==============================] - 0s 85ms/step - loss: 0.1015 - val_loss: 0.1266\n",
      "Epoch 91/100\n",
      "1/1 [==============================] - 0s 88ms/step - loss: 0.1012 - val_loss: 0.1263\n",
      "Epoch 92/100\n",
      "1/1 [==============================] - 0s 82ms/step - loss: 0.1009 - val_loss: 0.1260\n",
      "Epoch 93/100\n",
      "1/1 [==============================] - 0s 82ms/step - loss: 0.1006 - val_loss: 0.1257\n",
      "Epoch 94/100\n",
      "1/1 [==============================] - 0s 85ms/step - loss: 0.1003 - val_loss: 0.1254\n",
      "Epoch 95/100\n",
      "1/1 [==============================] - 0s 82ms/step - loss: 0.1000 - val_loss: 0.1250\n",
      "Epoch 96/100\n",
      "1/1 [==============================] - 0s 78ms/step - loss: 0.0997 - val_loss: 0.1247\n",
      "Epoch 97/100\n",
      "1/1 [==============================] - 0s 76ms/step - loss: 0.0994 - val_loss: 0.1244\n",
      "Epoch 98/100\n",
      "1/1 [==============================] - 0s 78ms/step - loss: 0.0990 - val_loss: 0.1240\n",
      "Epoch 99/100\n",
      "1/1 [==============================] - 0s 83ms/step - loss: 0.0987 - val_loss: 0.1237\n",
      "Epoch 100/100\n",
      "1/1 [==============================] - 0s 82ms/step - loss: 0.0984 - val_loss: 0.1233\n"
     ]
    }
   ],
   "source": [
    "history = autoencoder.fit(normal_train_data, normal_train_data, \n",
    "          epochs=100, \n",
    "          batch_size=5000,\n",
    "          validation_data=(test_data, test_data)) "
   ]
  },
  {
   "cell_type": "code",
   "execution_count": 402,
   "id": "b6980aaf",
   "metadata": {},
   "outputs": [
    {
     "name": "stdout",
     "output_type": "stream",
     "text": [
      "Model: \"anomaly_detector_12\"\n",
      "_________________________________________________________________\n",
      "Layer (type)                 Output Shape              Param #   \n",
      "=================================================================\n",
      "sequential_24 (Sequential)   (None, 2)                 7218      \n",
      "_________________________________________________________________\n",
      "sequential_25 (Sequential)   (None, 11)                7227      \n",
      "=================================================================\n",
      "Total params: 14,445\n",
      "Trainable params: 14,445\n",
      "Non-trainable params: 0\n",
      "_________________________________________________________________\n"
     ]
    }
   ],
   "source": [
    "autoencoder.summary()"
   ]
  },
  {
   "cell_type": "code",
   "execution_count": 403,
   "id": "60d1cffc",
   "metadata": {},
   "outputs": [
    {
     "data": {
      "text/plain": [
       "Text(0.5, 0, 'Epoch')"
      ]
     },
     "execution_count": 403,
     "metadata": {},
     "output_type": "execute_result"
    },
    {
     "data": {
      "image/png": "[encoded data removed]",
      "text/plain": [
       "<Figure size 432x288 with 1 Axes>"
      ]
     },
     "metadata": {
      "needs_background": "light"
     },
     "output_type": "display_data"
    }
   ],
   "source": [
    "plt.plot(history.history[\"loss\"], linewidth=2, label=\"Training Loss\")\n",
    "plt.plot(history.history[\"val_loss\"], linewidth=2, label=\"Validation Loss\")\n",
    "plt.legend(loc='upper right')\n",
    "plt.title('Model loss')\n",
    "plt.ylabel('Loss')\n",
    "plt.xlabel('Epoch')"
   ]
  },
  {
   "cell_type": "code",
   "execution_count": 404,
   "id": "d7d34a59",
   "metadata": {},
   "outputs": [
    {
     "data": {
      "image/png": "[encoded data removed]",
      "text/plain": [
       "<Figure size 432x288 with 1 Axes>"
      ]
     },
     "metadata": {
      "needs_background": "light"
     },
     "output_type": "display_data"
    }
   ],
   "source": [
    "reconstructions = autoencoder.predict(normal_train_data)\n",
    "train_loss = tf.keras.losses.mae(reconstructions, normal_train_data)\n",
    "\n",
    "plt.hist(train_loss[None, :], bins=50)\n",
    "plt.xlabel(\"Train loss\")\n",
    "plt.ylabel(\"No of examples\")\n",
    "plt.show()"
   ]
  },
  {
   "cell_type": "code",
   "execution_count": 405,
   "id": "14aea00f",
   "metadata": {},
   "outputs": [
    {
     "data": {
      "text/plain": [
       "TensorShape([2771])"
      ]
     },
     "execution_count": 405,
     "metadata": {},
     "output_type": "execute_result"
    }
   ],
   "source": [
    "train_loss.shape"
   ]
  },
  {
   "cell_type": "code",
   "execution_count": 433,
   "id": "dba15e19",
   "metadata": {},
   "outputs": [
    {
     "name": "stdout",
     "output_type": "stream",
     "text": [
      "Reconstruction error threshold: 0.1670106655251645\n"
     ]
    }
   ],
   "source": [
    "#threshold = np.max(train_loss) - (np.mean(train_loss) + np.min(train_loss) + np.std(train_loss))\n",
    "threshold = np.mean(train_loss) + np.std(train_loss) - np.min(train_loss)\n",
    "print(f'Reconstruction error threshold: {threshold}')"
   ]
  },
  {
   "cell_type": "code",
   "execution_count": 434,
   "id": "e31ce152",
   "metadata": {
    "scrolled": true
   },
   "outputs": [
    {
     "data": {
      "image/png": "[encoded data removed]",
      "text/plain": [
       "<Figure size 432x288 with 1 Axes>"
      ]
     },
     "metadata": {
      "needs_background": "light"
     },
     "output_type": "display_data"
    }
   ],
   "source": [
    "reconstructions = autoencoder.predict(anomalous_test_data)\n",
    "test_loss = tf.keras.losses.mae(reconstructions, anomalous_test_data)\n",
    "\n",
    "plt.hist(test_loss[None, :], bins=50)\n",
    "plt.xlabel(\"Test loss\")\n",
    "plt.ylabel(\"No of examples\")\n",
    "plt.show()"
   ]
  },
  {
   "cell_type": "code",
   "execution_count": 435,
   "id": "8ece5432",
   "metadata": {},
   "outputs": [
    {
     "data": {
      "text/plain": [
       "TensorShape([123])"
      ]
     },
     "execution_count": 435,
     "metadata": {},
     "output_type": "execute_result"
    }
   ],
   "source": [
    "test_loss.shape"
   ]
  },
  {
   "cell_type": "code",
   "execution_count": 436,
   "id": "93178ef7",
   "metadata": {},
   "outputs": [],
   "source": [
    "def predict(model, data, threshold):\n",
    "    reconstructions = model(data)\n",
    "    loss = tf.keras.losses.mae(reconstructions, data)\n",
    "    #return tf.math.less(loss, threshold)\n",
    "    return tf.math.logical_not(tf.math.less(loss, threshold))\n",
    "\n",
    "def print_stats(predictions, labels):\n",
    "    print(\"Accuracy = {}\".format(accuracy_score(labels, preds)))\n",
    "    print(\"Precision = {}\".format(precision_score(labels, preds)))\n",
    "    print(\"Recall = {}\".format(recall_score(labels, preds)))"
   ]
  },
  {
   "cell_type": "code",
   "execution_count": 437,
   "id": "08a4c85b",
   "metadata": {},
   "outputs": [
    {
     "name": "stdout",
     "output_type": "stream",
     "text": [
      "Accuracy = 0.7675544794188862\n",
      "Precision = 0.38305084745762713\n",
      "Recall = 0.9186991869918699\n",
      "\n",
      "Accuracy: 0.7675544794188862 \n",
      "\n",
      "True Positive: 113 \n",
      "True Negative: 521\n",
      "False Positive: 182 \n",
      "False Negative: 10\n",
      "\n",
      "Precision: 0.38305084745762713 \n",
      "Recall: 0.9186991869918699 \n",
      "F1 Score: 0.5406698564593302\n",
      "\n"
     ]
    },
    {
     "data": {
      "text/plain": [
       "1"
      ]
     },
     "execution_count": 437,
     "metadata": {},
     "output_type": "execute_result"
    }
   ],
   "source": [
    "classifier = 'Autoencoder'\n",
    "preds = predict(autoencoder, test_data, threshold)\n",
    "print_stats(preds, test_labels)\n",
    "get_accuracy(preds, test_labels, classifier)"
   ]
  },
  {
   "cell_type": "code",
   "execution_count": 411,
   "id": "1b12784a",
   "metadata": {},
   "outputs": [
    {
     "name": "stdout",
     "output_type": "stream",
     "text": [
      "26/26 [==============================] - 0s 2ms/step - loss: 0.2384\n"
     ]
    },
    {
     "data": {
      "text/plain": [
       "0.2384212762117386"
      ]
     },
     "execution_count": 411,
     "metadata": {},
     "output_type": "execute_result"
    }
   ],
   "source": [
    "pred = autoencoder.predict(test_data)\n",
    "autoencoder.evaluate(pred, test_labels)"
   ]
  },
  {
   "cell_type": "code",
   "execution_count": 412,
   "id": "0d8038d2",
   "metadata": {},
   "outputs": [
    {
     "data": {
      "text/plain": [
       "(703, 11)"
      ]
     },
     "execution_count": 412,
     "metadata": {},
     "output_type": "execute_result"
    }
   ],
   "source": [
    "test_data[test_labels==0].shape"
   ]
  },
  {
   "cell_type": "code",
   "execution_count": null,
   "id": "ed08be89",
   "metadata": {},
   "outputs": [],
   "source": []
  }
 ],
 "metadata": {
  "kernelspec": {
   "display_name": "Python 3",
   "language": "python",
   "name": "python3"
  },
  "language_info": {
   "codemirror_mode": {
    "name": "ipython",
    "version": 3
   },
   "file_extension": ".py",
   "mimetype": "text/x-python",
   "name": "python",
   "nbconvert_exporter": "python",
   "pygments_lexer": "ipython3",
   "version": "3.8.10"
  }
 },
 "nbformat": 4,
 "nbformat_minor": 5
}
