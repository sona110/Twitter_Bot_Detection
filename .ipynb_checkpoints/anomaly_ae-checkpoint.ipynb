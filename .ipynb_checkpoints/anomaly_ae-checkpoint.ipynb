{
 "cells": [
  {
   "cell_type": "code",
   "execution_count": 1,
   "id": "1d4426d2",
   "metadata": {},
   "outputs": [],
   "source": [
    "import tensorflow as tf\n",
    "import matplotlib.pyplot as plt\n",
    "import numpy as np\n",
    "import pandas as pd\n",
    "from keras import optimizers, Sequential\n",
    "from keras.utils import plot_model\n",
    "from keras.layers import Dense\n",
    "from sklearn.metrics import accuracy_score, precision_score, recall_score, f1_score, roc_curve, auc\n",
    "from imblearn.over_sampling import SMOTE\n",
    "from imblearn.under_sampling import EditedNearestNeighbours\n",
    "from sklearn.linear_model import LogisticRegression\n",
    "from sklearn.ensemble import AdaBoostClassifier\n",
    "from sklearn.model_selection import train_test_split\n",
    "from tensorflow.keras.models import Model\n",
    "from sklearn.preprocessing import StandardScaler"
   ]
  },
  {
   "cell_type": "code",
   "execution_count": 2,
   "id": "c3667fd8",
   "metadata": {},
   "outputs": [],
   "source": [
    "def get_accuracy(AL, y, classifier, verbose=1):\n",
    "    \n",
    "    try:\n",
    "        AL = np.array(AL)\n",
    "        y = np.array(y)\n",
    "\n",
    "        AL = AL.reshape(-1)\n",
    "        y = y.reshape(-1)\n",
    "\n",
    "        AL = AL > 0.5\n",
    "        AL = AL.astype(int)\n",
    "\n",
    "        y = y > 0.5\n",
    "        y = y.astype(int)\n",
    "\n",
    "        total = AL.shape[0]\n",
    "\n",
    "        TP = np.sum(np.logical_and(AL==1, y==1))\n",
    "        TN = np.sum(np.logical_and(AL==0, y==0))\n",
    "\n",
    "        FP = np.sum(np.logical_and(AL==1, y==0))\n",
    "        FN = np.sum(np.logical_and(AL==0, y==1))\n",
    "\n",
    "        P = TP / (TP + FP)\n",
    "        R = TP / (TP + FN)\n",
    "        F1 = (2 * P * R) / (P + R)\n",
    "\n",
    "\n",
    "        ACC = np.sum(AL == y)/total\n",
    "\n",
    "\n",
    "        if verbose == 1:\n",
    "            print(\"\\nAccuracy: {} \\n\".format(ACC))\n",
    "            print(\"True Positive: {} \\nTrue Negative: {}\\nFalse Positive: {} \\nFalse Negative: {}\\n\".format(TP,TN, FP, FN))\n",
    "            print(\"Precision: {} \\nRecall: {} \\nF1 Score: {}\\n\".format(P, R, F1))\n",
    "            \n",
    "        return 1\n",
    "    except:\n",
    "        return 0"
   ]
  },
  {
   "cell_type": "code",
   "execution_count": 295,
   "id": "3f144ff9",
   "metadata": {
    "scrolled": true
   },
   "outputs": [],
   "source": [
    "social1 = pd.read_csv('social_spambots_1.csv')\n",
    "social2 = pd.read_csv('social_spambots_2.csv')\n",
    "social3 = pd.read_csv('social_spambots_3.csv')\n",
    "traditional1 = pd.read_csv('traditional_spambots_1.csv')\n",
    "traditional2 = pd.read_csv('traditional_spambots_2.csv') \n",
    "fake = pd.read_csv('fake_followers.csv')\n",
    "genuine = pd.read_csv('genuine_accounts.csv')\n",
    "\n",
    "requiredColumns = ['created_at', 'updated', 'statuses_count', 'friends_count', 'followers_count', 'favourites_count', \n",
    "                   'default_profile', 'geo_enabled']\n",
    "social1 = social1[requiredColumns]\n",
    "social2 = social2[requiredColumns]\n",
    "social3 = social3[requiredColumns]\n",
    "traditional1 = traditional1[requiredColumns]\n",
    "traditional2 = traditional2[requiredColumns]\n",
    "fake = fake[requiredColumns]\n",
    "genuine = genuine[requiredColumns]\n",
    "\n",
    "def clean_df(df):\n",
    "    df['created_at'] = pd.to_datetime(df['created_at'].tolist(),errors='coerce').astype('datetime64[ns]')\n",
    "    df['updated'] = pd.to_datetime(df['updated'].tolist(),errors='coerce').astype('datetime64[ns]')\n",
    "    df['age'] = (df['updated'] - df['created_at']).astype('timedelta64[D]').fillna(0).astype(np.int64)\n",
    "    df['geo_located'] = df['geo_enabled'].apply(lambda x: 1 if x==x else 0)\n",
    "    df['default_profile'] = df['default_profile'].apply(lambda x: 1 if x==x else 0)\n",
    "    \n",
    "    val = []\n",
    "    for i in df['followers_count']:\n",
    "        if i<30:\n",
    "            val.append(1)\n",
    "        else:\n",
    "            val.append(0)\n",
    "    df['less_than_30_followers'] = val\n",
    "    \n",
    "    val = []\n",
    "    for i in df['statuses_count']:\n",
    "        if i<50:\n",
    "            val.append(1)\n",
    "        else:\n",
    "            val.append(0)\n",
    "    df['less_than_50_tweets'] = val\n",
    "    \n",
    "    val = []\n",
    "    for i in df['followers_count']:\n",
    "        if i>1000:\n",
    "            val.append(1)\n",
    "        else:\n",
    "            val.append(0)\n",
    "    df['more_than_1000_followers'] = val\n",
    "    \n",
    "    val = []\n",
    "    for i,j in zip(df['friends_count'], df['followers_count']):\n",
    "        if j==0:\n",
    "            j=1\n",
    "        if i/j>=100:\n",
    "            val.append(1)\n",
    "        else:\n",
    "            val.append(0)\n",
    "    df['following_to_followers'] = val\n",
    "    \n",
    "    df = df.rename(index=str, columns={\"statuses_count\": \"total_tweets\", \"friends_count\": \"total_following\", \n",
    "                                       \"followers_count\": \"total_followers\", \"favourites_count\": \"total_likes\"})\n",
    "    \n",
    "    return df[['age', 'total_tweets', 'total_following', 'total_followers', 'total_likes', 'geo_located', \n",
    "               'default_profile', 'less_than_30_followers', 'less_than_50_tweets', 'more_than_1000_followers', \n",
    "               'following_to_followers']]\n",
    "\n",
    "social1 = clean_df(social1)\n",
    "social2 = clean_df(social2)\n",
    "social3 = clean_df(social3)\n",
    "traditional1 = clean_df(traditional1)\n",
    "traditional2 = clean_df(traditional2)\n",
    "fake = clean_df(fake)\n",
    "human_accounts = clean_df(genuine)\n",
    "\n",
    "combine = pd.concat([social1, social2, social3, traditional1, traditional2, fake])\n",
    "bot_accounts = combine.sample(frac=1).reset_index(drop=True)"
   ]
  },
  {
   "cell_type": "code",
   "execution_count": 296,
   "id": "d76d917c",
   "metadata": {},
   "outputs": [
    {
     "data": {
      "text/plain": [
       "((9363, 11), (3474, 11))"
      ]
     },
     "execution_count": 296,
     "metadata": {},
     "output_type": "execute_result"
    }
   ],
   "source": [
    "from sklearn import preprocessing\n",
    "\n",
    "def scale_df(df):\n",
    "    scaler = preprocessing.MinMaxScaler()\n",
    "    names = ['age', 'total_tweets', 'total_following', 'total_followers', 'total_likes']\n",
    "    df[names] = scaler.fit_transform(df[names])\n",
    "    return df\n",
    "\n",
    "bot_accounts = scale_df(bot_accounts)\n",
    "human_accounts = scale_df(human_accounts)\n",
    "bot_accounts.shape, human_accounts.shape"
   ]
  },
  {
   "cell_type": "code",
   "execution_count": 298,
   "id": "ca0f48ff",
   "metadata": {},
   "outputs": [
    {
     "data": {
      "text/plain": [
       "(655, 11)"
      ]
     },
     "execution_count": 298,
     "metadata": {},
     "output_type": "execute_result"
    }
   ],
   "source": [
    "#Bot accounts undersampled to meet Bot to Human ratio of 15%\n",
    "\n",
    "bot_accounts = bot_accounts.sample(frac=0.07)\n",
    "bot_accounts.shape"
   ]
  },
  {
   "cell_type": "code",
   "execution_count": 299,
   "id": "67f3ff48",
   "metadata": {},
   "outputs": [
    {
     "data": {
      "text/html": [
       "<div>\n",
       "<style scoped>\n",
       "    .dataframe tbody tr th:only-of-type {\n",
       "        vertical-align: middle;\n",
       "    }\n",
       "\n",
       "    .dataframe tbody tr th {\n",
       "        vertical-align: top;\n",
       "    }\n",
       "\n",
       "    .dataframe thead th {\n",
       "        text-align: right;\n",
       "    }\n",
       "</style>\n",
       "<table border=\"1\" class=\"dataframe\">\n",
       "  <thead>\n",
       "    <tr style=\"text-align: right;\">\n",
       "      <th></th>\n",
       "      <th>age</th>\n",
       "      <th>total_tweets</th>\n",
       "      <th>total_following</th>\n",
       "      <th>total_followers</th>\n",
       "      <th>total_likes</th>\n",
       "      <th>geo_located</th>\n",
       "      <th>default_profile</th>\n",
       "      <th>less_than_30_followers</th>\n",
       "      <th>less_than_50_tweets</th>\n",
       "      <th>more_than_1000_followers</th>\n",
       "      <th>following_to_followers</th>\n",
       "      <th>Label</th>\n",
       "    </tr>\n",
       "  </thead>\n",
       "  <tbody>\n",
       "    <tr>\n",
       "      <th>0</th>\n",
       "      <td>0.959136</td>\n",
       "      <td>0.060240</td>\n",
       "      <td>0.027208</td>\n",
       "      <td>0.002274</td>\n",
       "      <td>0.014021</td>\n",
       "      <td>1</td>\n",
       "      <td>0</td>\n",
       "      <td>0</td>\n",
       "      <td>0</td>\n",
       "      <td>1</td>\n",
       "      <td>0</td>\n",
       "      <td>0</td>\n",
       "    </tr>\n",
       "    <tr>\n",
       "      <th>1</th>\n",
       "      <td>0.265781</td>\n",
       "      <td>0.084860</td>\n",
       "      <td>0.008961</td>\n",
       "      <td>0.000453</td>\n",
       "      <td>0.011878</td>\n",
       "      <td>1</td>\n",
       "      <td>0</td>\n",
       "      <td>0</td>\n",
       "      <td>0</td>\n",
       "      <td>0</td>\n",
       "      <td>0</td>\n",
       "      <td>0</td>\n",
       "    </tr>\n",
       "    <tr>\n",
       "      <th>2</th>\n",
       "      <td>0.405316</td>\n",
       "      <td>0.002137</td>\n",
       "      <td>0.003390</td>\n",
       "      <td>0.000054</td>\n",
       "      <td>0.001481</td>\n",
       "      <td>1</td>\n",
       "      <td>0</td>\n",
       "      <td>0</td>\n",
       "      <td>0</td>\n",
       "      <td>0</td>\n",
       "      <td>0</td>\n",
       "      <td>0</td>\n",
       "    </tr>\n",
       "    <tr>\n",
       "      <th>3</th>\n",
       "      <td>0.049198</td>\n",
       "      <td>0.000107</td>\n",
       "      <td>0.002443</td>\n",
       "      <td>0.000019</td>\n",
       "      <td>0.000000</td>\n",
       "      <td>0</td>\n",
       "      <td>1</td>\n",
       "      <td>1</td>\n",
       "      <td>1</td>\n",
       "      <td>0</td>\n",
       "      <td>0</td>\n",
       "      <td>1</td>\n",
       "    </tr>\n",
       "    <tr>\n",
       "      <th>4</th>\n",
       "      <td>0.051827</td>\n",
       "      <td>0.006933</td>\n",
       "      <td>0.010516</td>\n",
       "      <td>0.000366</td>\n",
       "      <td>0.008702</td>\n",
       "      <td>0</td>\n",
       "      <td>1</td>\n",
       "      <td>0</td>\n",
       "      <td>0</td>\n",
       "      <td>0</td>\n",
       "      <td>0</td>\n",
       "      <td>0</td>\n",
       "    </tr>\n",
       "  </tbody>\n",
       "</table>\n",
       "</div>"
      ],
      "text/plain": [
       "        age  total_tweets  total_following  total_followers  total_likes  \\\n",
       "0  0.959136      0.060240         0.027208         0.002274     0.014021   \n",
       "1  0.265781      0.084860         0.008961         0.000453     0.011878   \n",
       "2  0.405316      0.002137         0.003390         0.000054     0.001481   \n",
       "3  0.049198      0.000107         0.002443         0.000019     0.000000   \n",
       "4  0.051827      0.006933         0.010516         0.000366     0.008702   \n",
       "\n",
       "   geo_located  default_profile  less_than_30_followers  less_than_50_tweets  \\\n",
       "0            1                0                       0                    0   \n",
       "1            1                0                       0                    0   \n",
       "2            1                0                       0                    0   \n",
       "3            0                1                       1                    1   \n",
       "4            0                1                       0                    0   \n",
       "\n",
       "   more_than_1000_followers  following_to_followers  Label  \n",
       "0                         1                       0      0  \n",
       "1                         0                       0      0  \n",
       "2                         0                       0      0  \n",
       "3                         0                       0      1  \n",
       "4                         0                       0      0  "
      ]
     },
     "execution_count": 299,
     "metadata": {},
     "output_type": "execute_result"
    }
   ],
   "source": [
    "bot_accounts['Label'] = 1\n",
    "human_accounts['Label'] = 0\n",
    "\n",
    "combined_df = pd.concat([bot_accounts, human_accounts])\n",
    "\n",
    "df = combined_df.sample(frac=1).reset_index(drop=True)\n",
    "\n",
    "df.head()"
   ]
  },
  {
   "cell_type": "code",
   "execution_count": 851,
   "id": "7c05280e",
   "metadata": {},
   "outputs": [],
   "source": [
    "data = df.iloc[:,:-1].values\n",
    "labels = df.iloc[:,-1].values"
   ]
  },
  {
   "cell_type": "code",
   "execution_count": 852,
   "id": "390b1f67",
   "metadata": {},
   "outputs": [],
   "source": [
    "train_data, test_data, train_labels, test_labels = train_test_split(data, labels, test_size = 0.2, random_state = 21)"
   ]
  },
  {
   "cell_type": "code",
   "execution_count": 853,
   "id": "2391c6dd",
   "metadata": {},
   "outputs": [
    {
     "data": {
      "text/plain": [
       "((3303, 11), (826, 11))"
      ]
     },
     "execution_count": 853,
     "metadata": {},
     "output_type": "execute_result"
    }
   ],
   "source": [
    "train_data.shape, test_data.shape"
   ]
  },
  {
   "cell_type": "code",
   "execution_count": 856,
   "id": "9772daf3",
   "metadata": {},
   "outputs": [],
   "source": [
    "normal_train_data = train_data[train_labels==0]   # means it is human\n",
    "normal_test_data = test_data[test_labels==0]\n",
    "\n",
    "anomalous_train_data = train_data[train_labels==1]   #means it is bot\n",
    "anomalous_test_data = test_data[test_labels==1]"
   ]
  },
  {
   "cell_type": "code",
   "execution_count": 857,
   "id": "e70d1906",
   "metadata": {},
   "outputs": [],
   "source": [
    "def Model():\n",
    "    model = Sequential()\n",
    "    model.add(Dense(64, input_dim=data.shape[1], activation='relu'))\n",
    "    model.add(Dense(8, activation='relu'))\n",
    "    model.add(Dense(64, activation='relu'))\n",
    "    model.add(Dense(data.shape[1]))\n",
    "    model.compile(loss='mean_squared_error', optimizer='adam')\n",
    "    return model\n",
    "\n",
    "autoencoder = Model()"
   ]
  },
  {
   "cell_type": "code",
   "execution_count": 860,
   "id": "445f7b7d",
   "metadata": {
    "scrolled": true
   },
   "outputs": [
    {
     "name": "stdout",
     "output_type": "stream",
     "text": [
      "Epoch 1/100\n",
      "1/1 [==============================] - 1s 1s/step - loss: 0.1298 - val_loss: 0.1349\n",
      "Epoch 2/100\n",
      "1/1 [==============================] - 0s 106ms/step - loss: 0.1277 - val_loss: 0.1329\n",
      "Epoch 3/100\n",
      "1/1 [==============================] - 0s 79ms/step - loss: 0.1258 - val_loss: 0.1311\n",
      "Epoch 4/100\n",
      "1/1 [==============================] - 0s 72ms/step - loss: 0.1240 - val_loss: 0.1295\n",
      "Epoch 5/100\n",
      "1/1 [==============================] - 0s 72ms/step - loss: 0.1223 - val_loss: 0.1278\n",
      "Epoch 6/100\n",
      "1/1 [==============================] - 0s 75ms/step - loss: 0.1207 - val_loss: 0.1262\n",
      "Epoch 7/100\n",
      "1/1 [==============================] - 0s 70ms/step - loss: 0.1191 - val_loss: 0.1245\n",
      "Epoch 8/100\n",
      "1/1 [==============================] - 0s 85ms/step - loss: 0.1174 - val_loss: 0.1227\n",
      "Epoch 9/100\n",
      "1/1 [==============================] - 0s 75ms/step - loss: 0.1156 - val_loss: 0.1209\n",
      "Epoch 10/100\n",
      "1/1 [==============================] - 0s 83ms/step - loss: 0.1138 - val_loss: 0.1191\n",
      "Epoch 11/100\n",
      "1/1 [==============================] - 0s 90ms/step - loss: 0.1120 - val_loss: 0.1172\n",
      "Epoch 12/100\n",
      "1/1 [==============================] - 0s 68ms/step - loss: 0.1100 - val_loss: 0.1152\n",
      "Epoch 13/100\n",
      "1/1 [==============================] - 0s 70ms/step - loss: 0.1081 - val_loss: 0.1132\n",
      "Epoch 14/100\n",
      "1/1 [==============================] - 0s 81ms/step - loss: 0.1061 - val_loss: 0.1112\n",
      "Epoch 15/100\n",
      "1/1 [==============================] - 0s 74ms/step - loss: 0.1040 - val_loss: 0.1091\n",
      "Epoch 16/100\n",
      "1/1 [==============================] - 0s 81ms/step - loss: 0.1020 - val_loss: 0.1070\n",
      "Epoch 17/100\n",
      "1/1 [==============================] - 0s 71ms/step - loss: 0.0998 - val_loss: 0.1048\n",
      "Epoch 18/100\n",
      "1/1 [==============================] - 0s 70ms/step - loss: 0.0976 - val_loss: 0.1026\n",
      "Epoch 19/100\n",
      "1/1 [==============================] - 0s 68ms/step - loss: 0.0953 - val_loss: 0.1003\n",
      "Epoch 20/100\n",
      "1/1 [==============================] - 0s 82ms/step - loss: 0.0930 - val_loss: 0.0980\n",
      "Epoch 21/100\n",
      "1/1 [==============================] - 0s 77ms/step - loss: 0.0906 - val_loss: 0.0957\n",
      "Epoch 22/100\n",
      "1/1 [==============================] - 0s 75ms/step - loss: 0.0881 - val_loss: 0.0933\n",
      "Epoch 23/100\n",
      "1/1 [==============================] - 0s 98ms/step - loss: 0.0855 - val_loss: 0.0908\n",
      "Epoch 24/100\n",
      "1/1 [==============================] - 0s 106ms/step - loss: 0.0829 - val_loss: 0.0884\n",
      "Epoch 25/100\n",
      "1/1 [==============================] - 0s 106ms/step - loss: 0.0803 - val_loss: 0.0860\n",
      "Epoch 26/100\n",
      "1/1 [==============================] - 0s 108ms/step - loss: 0.0777 - val_loss: 0.0835\n",
      "Epoch 27/100\n",
      "1/1 [==============================] - 0s 109ms/step - loss: 0.0750 - val_loss: 0.0811\n",
      "Epoch 28/100\n",
      "1/1 [==============================] - 0s 69ms/step - loss: 0.0723 - val_loss: 0.0787\n",
      "Epoch 29/100\n",
      "1/1 [==============================] - 0s 78ms/step - loss: 0.0697 - val_loss: 0.0764\n",
      "Epoch 30/100\n",
      "1/1 [==============================] - 0s 76ms/step - loss: 0.0670 - val_loss: 0.0742\n",
      "Epoch 31/100\n",
      "1/1 [==============================] - 0s 75ms/step - loss: 0.0644 - val_loss: 0.0720\n",
      "Epoch 32/100\n",
      "1/1 [==============================] - 0s 92ms/step - loss: 0.0619 - val_loss: 0.0699\n",
      "Epoch 33/100\n",
      "1/1 [==============================] - 0s 94ms/step - loss: 0.0594 - val_loss: 0.0679\n",
      "Epoch 34/100\n",
      "1/1 [==============================] - 0s 92ms/step - loss: 0.0570 - val_loss: 0.0661\n",
      "Epoch 35/100\n",
      "1/1 [==============================] - 0s 86ms/step - loss: 0.0547 - val_loss: 0.0644\n",
      "Epoch 36/100\n",
      "1/1 [==============================] - 0s 96ms/step - loss: 0.0525 - val_loss: 0.0628\n",
      "Epoch 37/100\n",
      "1/1 [==============================] - 0s 119ms/step - loss: 0.0505 - val_loss: 0.0613\n",
      "Epoch 38/100\n",
      "1/1 [==============================] - 0s 109ms/step - loss: 0.0486 - val_loss: 0.0600\n",
      "Epoch 39/100\n",
      "1/1 [==============================] - 0s 74ms/step - loss: 0.0468 - val_loss: 0.0588\n",
      "Epoch 40/100\n",
      "1/1 [==============================] - 0s 87ms/step - loss: 0.0452 - val_loss: 0.0577\n",
      "Epoch 41/100\n",
      "1/1 [==============================] - 0s 103ms/step - loss: 0.0438 - val_loss: 0.0567\n",
      "Epoch 42/100\n",
      "1/1 [==============================] - 0s 101ms/step - loss: 0.0425 - val_loss: 0.0558\n",
      "Epoch 43/100\n",
      "1/1 [==============================] - 0s 97ms/step - loss: 0.0413 - val_loss: 0.0549\n",
      "Epoch 44/100\n",
      "1/1 [==============================] - 0s 107ms/step - loss: 0.0402 - val_loss: 0.0541\n",
      "Epoch 45/100\n",
      "1/1 [==============================] - 0s 111ms/step - loss: 0.0393 - val_loss: 0.0532\n",
      "Epoch 46/100\n",
      "1/1 [==============================] - 0s 113ms/step - loss: 0.0384 - val_loss: 0.0523\n",
      "Epoch 47/100\n",
      "1/1 [==============================] - 0s 90ms/step - loss: 0.0376 - val_loss: 0.0514\n",
      "Epoch 48/100\n",
      "1/1 [==============================] - 0s 96ms/step - loss: 0.0368 - val_loss: 0.0504\n",
      "Epoch 49/100\n",
      "1/1 [==============================] - 0s 124ms/step - loss: 0.0360 - val_loss: 0.0493\n",
      "Epoch 50/100\n",
      "1/1 [==============================] - 0s 98ms/step - loss: 0.0352 - val_loss: 0.0482\n",
      "Epoch 51/100\n",
      "1/1 [==============================] - 0s 81ms/step - loss: 0.0343 - val_loss: 0.0470\n",
      "Epoch 52/100\n",
      "1/1 [==============================] - 0s 91ms/step - loss: 0.0334 - val_loss: 0.0457\n",
      "Epoch 53/100\n",
      "1/1 [==============================] - 0s 110ms/step - loss: 0.0325 - val_loss: 0.0443\n",
      "Epoch 54/100\n",
      "1/1 [==============================] - 0s 112ms/step - loss: 0.0314 - val_loss: 0.0429\n",
      "Epoch 55/100\n",
      "1/1 [==============================] - 0s 103ms/step - loss: 0.0304 - val_loss: 0.0415\n",
      "Epoch 56/100\n",
      "1/1 [==============================] - 0s 92ms/step - loss: 0.0294 - val_loss: 0.0402\n",
      "Epoch 57/100\n",
      "1/1 [==============================] - 0s 85ms/step - loss: 0.0284 - val_loss: 0.0389\n",
      "Epoch 58/100\n",
      "1/1 [==============================] - 0s 119ms/step - loss: 0.0275 - val_loss: 0.0378\n",
      "Epoch 59/100\n",
      "1/1 [==============================] - 0s 108ms/step - loss: 0.0266 - val_loss: 0.0367\n",
      "Epoch 60/100\n",
      "1/1 [==============================] - 0s 78ms/step - loss: 0.0258 - val_loss: 0.0356\n",
      "Epoch 61/100\n",
      "1/1 [==============================] - 0s 91ms/step - loss: 0.0250 - val_loss: 0.0346\n",
      "Epoch 62/100\n",
      "1/1 [==============================] - 0s 100ms/step - loss: 0.0242 - val_loss: 0.0335\n",
      "Epoch 63/100\n",
      "1/1 [==============================] - 0s 95ms/step - loss: 0.0234 - val_loss: 0.0326\n",
      "Epoch 64/100\n",
      "1/1 [==============================] - 0s 116ms/step - loss: 0.0226 - val_loss: 0.0316\n",
      "Epoch 65/100\n",
      "1/1 [==============================] - 0s 109ms/step - loss: 0.0219 - val_loss: 0.0308\n",
      "Epoch 66/100\n",
      "1/1 [==============================] - 0s 97ms/step - loss: 0.0212 - val_loss: 0.0299\n",
      "Epoch 67/100\n",
      "1/1 [==============================] - 0s 87ms/step - loss: 0.0205 - val_loss: 0.0291\n",
      "Epoch 68/100\n",
      "1/1 [==============================] - 0s 110ms/step - loss: 0.0198 - val_loss: 0.0284\n",
      "Epoch 69/100\n",
      "1/1 [==============================] - 0s 101ms/step - loss: 0.0192 - val_loss: 0.0277\n",
      "Epoch 70/100\n",
      "1/1 [==============================] - 0s 96ms/step - loss: 0.0186 - val_loss: 0.0270\n",
      "Epoch 71/100\n",
      "1/1 [==============================] - 0s 80ms/step - loss: 0.0180 - val_loss: 0.0263\n",
      "Epoch 72/100\n",
      "1/1 [==============================] - 0s 70ms/step - loss: 0.0174 - val_loss: 0.0256\n",
      "Epoch 73/100\n",
      "1/1 [==============================] - 0s 73ms/step - loss: 0.0168 - val_loss: 0.0250\n",
      "Epoch 74/100\n",
      "1/1 [==============================] - 0s 68ms/step - loss: 0.0162 - val_loss: 0.0244\n",
      "Epoch 75/100\n",
      "1/1 [==============================] - 0s 71ms/step - loss: 0.0156 - val_loss: 0.0239\n",
      "Epoch 76/100\n",
      "1/1 [==============================] - 0s 68ms/step - loss: 0.0151 - val_loss: 0.0234\n",
      "Epoch 77/100\n",
      "1/1 [==============================] - 0s 69ms/step - loss: 0.0145 - val_loss: 0.0229\n",
      "Epoch 78/100\n",
      "1/1 [==============================] - 0s 73ms/step - loss: 0.0140 - val_loss: 0.0224\n",
      "Epoch 79/100\n",
      "1/1 [==============================] - 0s 69ms/step - loss: 0.0136 - val_loss: 0.0220\n",
      "Epoch 80/100\n",
      "1/1 [==============================] - 0s 70ms/step - loss: 0.0131 - val_loss: 0.0216\n",
      "Epoch 81/100\n",
      "1/1 [==============================] - 0s 78ms/step - loss: 0.0127 - val_loss: 0.0212\n",
      "Epoch 82/100\n",
      "1/1 [==============================] - 0s 76ms/step - loss: 0.0122 - val_loss: 0.0208\n",
      "Epoch 83/100\n",
      "1/1 [==============================] - 0s 70ms/step - loss: 0.0118 - val_loss: 0.0204\n",
      "Epoch 84/100\n",
      "1/1 [==============================] - 0s 74ms/step - loss: 0.0114 - val_loss: 0.0200\n",
      "Epoch 85/100\n",
      "1/1 [==============================] - 0s 62ms/step - loss: 0.0111 - val_loss: 0.0196\n",
      "Epoch 86/100\n",
      "1/1 [==============================] - 0s 79ms/step - loss: 0.0107 - val_loss: 0.0192\n",
      "Epoch 87/100\n",
      "1/1 [==============================] - 0s 69ms/step - loss: 0.0104 - val_loss: 0.0189\n",
      "Epoch 88/100\n",
      "1/1 [==============================] - 0s 72ms/step - loss: 0.0101 - val_loss: 0.0185\n",
      "Epoch 89/100\n",
      "1/1 [==============================] - 0s 70ms/step - loss: 0.0097 - val_loss: 0.0181\n",
      "Epoch 90/100\n",
      "1/1 [==============================] - 0s 67ms/step - loss: 0.0094 - val_loss: 0.0177\n",
      "Epoch 91/100\n",
      "1/1 [==============================] - 0s 79ms/step - loss: 0.0091 - val_loss: 0.0173\n",
      "Epoch 92/100\n",
      "1/1 [==============================] - 0s 72ms/step - loss: 0.0088 - val_loss: 0.0169\n",
      "Epoch 93/100\n",
      "1/1 [==============================] - 0s 69ms/step - loss: 0.0086 - val_loss: 0.0165\n",
      "Epoch 94/100\n",
      "1/1 [==============================] - 0s 72ms/step - loss: 0.0083 - val_loss: 0.0160\n",
      "Epoch 95/100\n",
      "1/1 [==============================] - 0s 75ms/step - loss: 0.0080 - val_loss: 0.0156\n",
      "Epoch 96/100\n",
      "1/1 [==============================] - 0s 65ms/step - loss: 0.0078 - val_loss: 0.0152\n",
      "Epoch 97/100\n",
      "1/1 [==============================] - 0s 69ms/step - loss: 0.0075 - val_loss: 0.0148\n",
      "Epoch 98/100\n",
      "1/1 [==============================] - 0s 80ms/step - loss: 0.0073 - val_loss: 0.0144\n",
      "Epoch 99/100\n",
      "1/1 [==============================] - 0s 76ms/step - loss: 0.0071 - val_loss: 0.0139\n",
      "Epoch 100/100\n",
      "1/1 [==============================] - 0s 70ms/step - loss: 0.0068 - val_loss: 0.0135\n"
     ]
    }
   ],
   "source": [
    "history = autoencoder.fit(normal_train_data, normal_train_data, \n",
    "          epochs=100, \n",
    "          batch_size=5000,\n",
    "          validation_data=(test_data, test_data)) "
   ]
  },
  {
   "cell_type": "code",
   "execution_count": 861,
   "id": "b6980aaf",
   "metadata": {},
   "outputs": [
    {
     "name": "stdout",
     "output_type": "stream",
     "text": [
      "Model: \"sequential_17\"\n",
      "_________________________________________________________________\n",
      "Layer (type)                 Output Shape              Param #   \n",
      "=================================================================\n",
      "dense_62 (Dense)             (None, 64)                768       \n",
      "_________________________________________________________________\n",
      "dense_63 (Dense)             (None, 8)                 520       \n",
      "_________________________________________________________________\n",
      "dense_64 (Dense)             (None, 64)                576       \n",
      "_________________________________________________________________\n",
      "dense_65 (Dense)             (None, 11)                715       \n",
      "=================================================================\n",
      "Total params: 2,579\n",
      "Trainable params: 2,579\n",
      "Non-trainable params: 0\n",
      "_________________________________________________________________\n"
     ]
    }
   ],
   "source": [
    "autoencoder.summary()"
   ]
  },
  {
   "cell_type": "code",
   "execution_count": 862,
   "id": "60d1cffc",
   "metadata": {},
   "outputs": [
    {
     "data": {
      "text/plain": [
       "Text(0.5, 0, 'Epoch')"
      ]
     },
     "execution_count": 862,
     "metadata": {},
     "output_type": "execute_result"
    },
    {
     "data": {
      "image/png": "[encoded data removed]",
      "text/plain": [
       "<Figure size 432x288 with 1 Axes>"
      ]
     },
     "metadata": {
      "needs_background": "light"
     },
     "output_type": "display_data"
    }
   ],
   "source": [
    "plt.plot(history.history[\"loss\"], linewidth=2, label=\"Training Loss\")\n",
    "plt.plot(history.history[\"val_loss\"], linewidth=2, label=\"Validation Loss\")\n",
    "plt.legend(loc='upper right')\n",
    "plt.title('Model loss')\n",
    "plt.ylabel('Loss')\n",
    "plt.xlabel('Epoch')"
   ]
  },
  {
   "cell_type": "code",
   "execution_count": 863,
   "id": "d7d34a59",
   "metadata": {},
   "outputs": [
    {
     "data": {
      "image/png": "[encoded data removed]",
      "text/plain": [
       "<Figure size 432x288 with 1 Axes>"
      ]
     },
     "metadata": {
      "needs_background": "light"
     },
     "output_type": "display_data"
    }
   ],
   "source": [
    "reconstructions = autoencoder.predict(normal_train_data)\n",
    "train_loss = tf.keras.losses.mae(reconstructions, normal_train_data)\n",
    "\n",
    "plt.hist(train_loss[None, :], bins=50)\n",
    "plt.xlabel(\"Train loss\")\n",
    "plt.ylabel(\"No of examples\")\n",
    "plt.show()"
   ]
  },
  {
   "cell_type": "code",
   "execution_count": 864,
   "id": "14aea00f",
   "metadata": {},
   "outputs": [
    {
     "data": {
      "text/plain": [
       "TensorShape([2784])"
      ]
     },
     "execution_count": 864,
     "metadata": {},
     "output_type": "execute_result"
    }
   ],
   "source": [
    "train_loss.shape"
   ]
  },
  {
   "cell_type": "code",
   "execution_count": 903,
   "id": "dba15e19",
   "metadata": {},
   "outputs": [
    {
     "name": "stdout",
     "output_type": "stream",
     "text": [
      "Reconstruction error threshold: 0.10427534981503213\n"
     ]
    }
   ],
   "source": [
    "#threshold = np.max(train_loss) - 2*(np.mean(train_loss) + np.min(train_loss) + np.std(train_loss))\n",
    "threshold = np.mean(train_loss) + 2*np.min(train_loss) + np.std(train_loss)\n",
    "print(f'Reconstruction error threshold: {threshold}')"
   ]
  },
  {
   "cell_type": "code",
   "execution_count": 904,
   "id": "e31ce152",
   "metadata": {
    "scrolled": true
   },
   "outputs": [
    {
     "data": {
      "image/png": "[encoded data removed]",
      "text/plain": [
       "<Figure size 432x288 with 1 Axes>"
      ]
     },
     "metadata": {
      "needs_background": "light"
     },
     "output_type": "display_data"
    }
   ],
   "source": [
    "reconstructions = autoencoder.predict(anomalous_test_data)\n",
    "test_loss = tf.keras.losses.mae(reconstructions, anomalous_test_data)\n",
    "\n",
    "plt.hist(test_loss[None, :], bins=50)\n",
    "plt.xlabel(\"Test loss\")\n",
    "plt.ylabel(\"No of examples\")\n",
    "plt.show()"
   ]
  },
  {
   "cell_type": "code",
   "execution_count": 905,
   "id": "8ece5432",
   "metadata": {},
   "outputs": [
    {
     "data": {
      "text/plain": [
       "TensorShape([136])"
      ]
     },
     "execution_count": 905,
     "metadata": {},
     "output_type": "execute_result"
    }
   ],
   "source": [
    "test_loss.shape"
   ]
  },
  {
   "cell_type": "code",
   "execution_count": 906,
   "id": "93178ef7",
   "metadata": {},
   "outputs": [],
   "source": [
    "def predict(model, data, threshold):\n",
    "    reconstructions = model(data)\n",
    "    loss = tf.keras.losses.mae(reconstructions, data)\n",
    "    #return tf.math.less(loss, threshold)\n",
    "    return tf.math.logical_not(tf.math.less(loss, threshold))\n",
    "\n",
    "def print_stats(predictions, labels):\n",
    "    print(\"Accuracy = {}\".format(accuracy_score(labels, preds)))\n",
    "    print(\"Precision = {}\".format(precision_score(labels, preds)))\n",
    "    print(\"Recall = {}\".format(recall_score(labels, preds)))"
   ]
  },
  {
   "cell_type": "code",
   "execution_count": 907,
   "id": "08a4c85b",
   "metadata": {},
   "outputs": [
    {
     "name": "stdout",
     "output_type": "stream",
     "text": [
      "Accuracy = 0.9225181598062954\n",
      "Precision = 0.74\n",
      "Recall = 0.8161764705882353\n",
      "\n",
      "Accuracy: 0.9225181598062954 \n",
      "\n",
      "True Positive: 111 \n",
      "True Negative: 651\n",
      "False Positive: 39 \n",
      "False Negative: 25\n",
      "\n",
      "Precision: 0.74 \n",
      "Recall: 0.8161764705882353 \n",
      "F1 Score: 0.7762237762237763\n",
      "\n"
     ]
    },
    {
     "data": {
      "text/plain": [
       "1"
      ]
     },
     "execution_count": 907,
     "metadata": {},
     "output_type": "execute_result"
    }
   ],
   "source": [
    "classifier = 'Autoencoder'\n",
    "#threshold = 0.10427534981503213  #with best accuracy\n",
    "preds = predict(autoencoder, test_data, threshold)\n",
    "print_stats(preds, test_labels)\n",
    "get_accuracy(preds, test_labels, classifier)"
   ]
  },
  {
   "cell_type": "code",
   "execution_count": 897,
   "id": "1b12784a",
   "metadata": {},
   "outputs": [
    {
     "name": "stdout",
     "output_type": "stream",
     "text": [
      "26/26 [==============================] - 0s 2ms/step - loss: 0.2308\n"
     ]
    },
    {
     "data": {
      "text/plain": [
       "0.23076827824115753"
      ]
     },
     "execution_count": 897,
     "metadata": {},
     "output_type": "execute_result"
    }
   ],
   "source": [
    "pred = autoencoder.predict(test_data)\n",
    "autoencoder.evaluate(pred, test_labels)"
   ]
  },
  {
   "cell_type": "code",
   "execution_count": 898,
   "id": "0d8038d2",
   "metadata": {},
   "outputs": [
    {
     "data": {
      "text/plain": [
       "(690, 11)"
      ]
     },
     "execution_count": 898,
     "metadata": {},
     "output_type": "execute_result"
    }
   ],
   "source": [
    "test_data[test_labels==0].shape"
   ]
  },
  {
   "cell_type": "code",
   "execution_count": 899,
   "id": "84b67825",
   "metadata": {},
   "outputs": [],
   "source": [
    "#classification using binary classifiers\n",
    "\n",
    "X_train_encode = autoencoder.predict(train_data)\n",
    "X_test_encode = autoencoder.predict(test_data)"
   ]
  },
  {
   "cell_type": "code",
   "execution_count": 900,
   "id": "faf74a92",
   "metadata": {},
   "outputs": [
    {
     "name": "stdout",
     "output_type": "stream",
     "text": [
      "\n",
      "Accuracy: 0.9358353510895884 \n",
      "\n",
      "True Positive: 108 \n",
      "True Negative: 665\n",
      "False Positive: 25 \n",
      "False Negative: 28\n",
      "\n",
      "Precision: 0.8120300751879699 \n",
      "Recall: 0.7941176470588235 \n",
      "F1 Score: 0.8029739776951672\n",
      "\n"
     ]
    },
    {
     "data": {
      "text/plain": [
       "1"
      ]
     },
     "execution_count": 900,
     "metadata": {},
     "output_type": "execute_result"
    }
   ],
   "source": [
    "# define the model\n",
    "model = LogisticRegression()\n",
    "# fit the model on the training set\n",
    "model.fit(X_train_encode, train_labels)\n",
    "# make predictions on the test set\n",
    "yhat = model.predict(X_test_encode)\n",
    "# calculate classification accuracy                L2 regularization\n",
    "classifier = 'LR'\n",
    "get_accuracy(yhat, test_labels, classifier)"
   ]
  },
  {
   "cell_type": "code",
   "execution_count": 901,
   "id": "13388ada",
   "metadata": {
    "scrolled": true
   },
   "outputs": [
    {
     "name": "stdout",
     "output_type": "stream",
     "text": [
      "\n",
      "Accuracy: 0.9612590799031477 \n",
      "\n",
      "True Positive: 123 \n",
      "True Negative: 671\n",
      "False Positive: 19 \n",
      "False Negative: 13\n",
      "\n",
      "Precision: 0.8661971830985915 \n",
      "Recall: 0.9044117647058824 \n",
      "F1 Score: 0.8848920863309353\n",
      "\n"
     ]
    },
    {
     "data": {
      "text/plain": [
       "1"
      ]
     },
     "execution_count": 901,
     "metadata": {},
     "output_type": "execute_result"
    }
   ],
   "source": [
    "s = SMOTE()\n",
    "smote_X, smote_y = s.fit_resample(X_train_encode, train_labels)\n",
    "\n",
    "#e = EditedNearestNeighbours()\n",
    "#r_X, r_y = e.fit_resample(smote_X, smote_y)\n",
    "\n",
    "abc = AdaBoostClassifier(n_estimators=150, random_state=0)\n",
    "\n",
    "#abc.fit(r_X, r_y)\n",
    "abc.fit(smote_X, smote_y)\n",
    "\n",
    "y_predict = abc.predict(X_test_encode)\n",
    "\n",
    "classifier = 'SMOTEENN with AdaBoost'\n",
    "get_accuracy(y_predict, test_labels, classifier)"
   ]
  },
  {
   "cell_type": "code",
   "execution_count": null,
   "id": "ed08be89",
   "metadata": {},
   "outputs": [],
   "source": []
  }
 ],
 "metadata": {
  "kernelspec": {
   "display_name": "Python 3",
   "language": "python",
   "name": "python3"
  },
  "language_info": {
   "codemirror_mode": {
    "name": "ipython",
    "version": 3
   },
   "file_extension": ".py",
   "mimetype": "text/x-python",
   "name": "python",
   "nbconvert_exporter": "python",
   "pygments_lexer": "ipython3",
   "version": "3.8.10"
  }
 },
 "nbformat": 4,
 "nbformat_minor": 5
}
