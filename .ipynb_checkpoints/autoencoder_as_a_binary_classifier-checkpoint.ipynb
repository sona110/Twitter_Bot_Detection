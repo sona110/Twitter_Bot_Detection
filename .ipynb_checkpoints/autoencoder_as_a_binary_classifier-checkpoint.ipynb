{
 "cells": [
  {
   "cell_type": "code",
   "execution_count": 27,
   "id": "3d126cb0",
   "metadata": {},
   "outputs": [],
   "source": [
    "import numpy as np\n",
    "import pandas as pd\n",
    "\n",
    "from sklearn import metrics\n",
    "from sklearn import preprocessing\n",
    "from sklearn.model_selection import train_test_split\n",
    "\n",
    "import tensorflow as tf\n",
    "from tensorflow.keras.callbacks import EarlyStopping\n",
    "from tensorflow.keras.models import Sequential\n",
    "from tensorflow.keras.layers import Dense, Activation\n",
    "\n",
    "import warnings\n",
    "warnings.simplefilter('ignore')"
   ]
  },
  {
   "cell_type": "code",
   "execution_count": 28,
   "id": "ce6f6c27",
   "metadata": {},
   "outputs": [],
   "source": [
    "social1 = pd.read_csv('social_spambots_1.csv')\n",
    "social2 = pd.read_csv('social_spambots_2.csv')\n",
    "social3 = pd.read_csv('social_spambots_3.csv')\n",
    "traditional1 = pd.read_csv('traditional_spambots_1.csv')\n",
    "traditional2 = pd.read_csv('traditional_spambots_2.csv') \n",
    "fake = pd.read_csv('fake_followers.csv')\n",
    "genuine = pd.read_csv('genuine_accounts.csv')"
   ]
  },
  {
   "cell_type": "code",
   "execution_count": 29,
   "id": "734d727f",
   "metadata": {},
   "outputs": [],
   "source": [
    "requiredColumns = ['created_at', 'updated', 'statuses_count', 'friends_count', 'followers_count', 'favourites_count', \n",
    "                   'default_profile', 'geo_enabled']\n",
    "\n",
    "social1 = social1[requiredColumns]\n",
    "social2 = social2[requiredColumns]\n",
    "social3 = social3[requiredColumns]\n",
    "traditional1 = traditional1[requiredColumns]\n",
    "traditional2 = traditional2[requiredColumns]\n",
    "fake = fake[requiredColumns]\n",
    "genuine = genuine[requiredColumns]"
   ]
  },
  {
   "cell_type": "code",
   "execution_count": 30,
   "id": "2e96587d",
   "metadata": {},
   "outputs": [],
   "source": [
    "def clean_df(df):\n",
    "    df['created_at'] = pd.to_datetime(df['created_at'].tolist(),errors='coerce').astype('datetime64[ns]')\n",
    "    df['updated'] = pd.to_datetime(df['updated'].tolist(),errors='coerce').astype('datetime64[ns]')\n",
    "    df['age'] = (df['updated'] - df['created_at']).astype('timedelta64[D]').fillna(0).astype(np.int64)\n",
    "    df['geo_located'] = df['geo_enabled'].apply(lambda x: 1 if x==x else 0)\n",
    "    df['default_profile'] = df['default_profile'].apply(lambda x: 1 if x==x else 0)\n",
    "    \n",
    "    val = []\n",
    "    for i in df['followers_count']:\n",
    "        if i<30:\n",
    "            val.append(1)\n",
    "        else:\n",
    "            val.append(0)\n",
    "    df['less_than_30_followers'] = val\n",
    "    \n",
    "    val = []\n",
    "    for i in df['statuses_count']:\n",
    "        if i<50:\n",
    "            val.append(1)\n",
    "        else:\n",
    "            val.append(0)\n",
    "    df['less_than_50_tweets'] = val\n",
    "    \n",
    "    val = []\n",
    "    for i in df['followers_count']:\n",
    "        if i>1000:\n",
    "            val.append(1)\n",
    "        else:\n",
    "            val.append(0)\n",
    "    df['more_than_1000_followers'] = val\n",
    "    \n",
    "    val = []\n",
    "    for i,j in zip(df['friends_count'], df['followers_count']):\n",
    "        if j==0:\n",
    "            j=1\n",
    "        if i/j>=100:\n",
    "            val.append(1)\n",
    "        else:\n",
    "            val.append(0)\n",
    "    df['following_to_followers'] = val\n",
    "    \n",
    "    df = df.rename(index=str, columns={\"statuses_count\": \"total_tweets\", \"friends_count\": \"total_following\", \n",
    "                                       \"followers_count\": \"total_followers\", \"favourites_count\": \"total_likes\"})\n",
    "    \n",
    "    return df[['age', 'total_tweets', 'total_following', 'total_followers', 'total_likes', 'geo_located', \n",
    "               'default_profile', 'less_than_30_followers', 'less_than_50_tweets', 'more_than_1000_followers', \n",
    "               'following_to_followers']]\n"
   ]
  },
  {
   "cell_type": "code",
   "execution_count": 31,
   "id": "2f64e191",
   "metadata": {},
   "outputs": [],
   "source": [
    "social1 = clean_df(social1)\n",
    "social2 = clean_df(social2)\n",
    "social3 = clean_df(social3)\n",
    "traditional1 = clean_df(traditional1)\n",
    "traditional2 = clean_df(traditional2)\n",
    "fake = clean_df(fake)\n",
    "genuine = clean_df(genuine)"
   ]
  },
  {
   "cell_type": "code",
   "execution_count": 32,
   "id": "2a09abc0",
   "metadata": {},
   "outputs": [],
   "source": [
    "combine = pd.concat([social1, social2, social3, traditional1, traditional2, fake])\n",
    "bot = combine.sample(frac=1).reset_index(drop=True)"
   ]
  },
  {
   "cell_type": "code",
   "execution_count": 33,
   "id": "56532cbe",
   "metadata": {},
   "outputs": [],
   "source": [
    "bot['Label'] = 'B'\n",
    "genuine['Label'] = 'H'"
   ]
  },
  {
   "cell_type": "code",
   "execution_count": 34,
   "id": "e6544195",
   "metadata": {},
   "outputs": [],
   "source": [
    "bot = bot.sample(frac=1)\n",
    "bot = bot.head(640)"
   ]
  },
  {
   "cell_type": "code",
   "execution_count": 35,
   "id": "fcb3b065",
   "metadata": {},
   "outputs": [
    {
     "data": {
      "text/html": [
       "<div>\n",
       "<style scoped>\n",
       "    .dataframe tbody tr th:only-of-type {\n",
       "        vertical-align: middle;\n",
       "    }\n",
       "\n",
       "    .dataframe tbody tr th {\n",
       "        vertical-align: top;\n",
       "    }\n",
       "\n",
       "    .dataframe thead th {\n",
       "        text-align: right;\n",
       "    }\n",
       "</style>\n",
       "<table border=\"1\" class=\"dataframe\">\n",
       "  <thead>\n",
       "    <tr style=\"text-align: right;\">\n",
       "      <th></th>\n",
       "      <th>age</th>\n",
       "      <th>total_tweets</th>\n",
       "      <th>total_following</th>\n",
       "      <th>total_followers</th>\n",
       "      <th>total_likes</th>\n",
       "      <th>geo_located</th>\n",
       "      <th>default_profile</th>\n",
       "      <th>less_than_30_followers</th>\n",
       "      <th>less_than_50_tweets</th>\n",
       "      <th>more_than_1000_followers</th>\n",
       "      <th>following_to_followers</th>\n",
       "      <th>Label</th>\n",
       "    </tr>\n",
       "  </thead>\n",
       "  <tbody>\n",
       "    <tr>\n",
       "      <th>0</th>\n",
       "      <td>992</td>\n",
       "      <td>10924</td>\n",
       "      <td>185</td>\n",
       "      <td>578</td>\n",
       "      <td>13651</td>\n",
       "      <td>0</td>\n",
       "      <td>0</td>\n",
       "      <td>0</td>\n",
       "      <td>0</td>\n",
       "      <td>0</td>\n",
       "      <td>0</td>\n",
       "      <td>H</td>\n",
       "    </tr>\n",
       "    <tr>\n",
       "      <th>1</th>\n",
       "      <td>1762</td>\n",
       "      <td>7863</td>\n",
       "      <td>70</td>\n",
       "      <td>106</td>\n",
       "      <td>3771</td>\n",
       "      <td>1</td>\n",
       "      <td>0</td>\n",
       "      <td>0</td>\n",
       "      <td>0</td>\n",
       "      <td>0</td>\n",
       "      <td>0</td>\n",
       "      <td>H</td>\n",
       "    </tr>\n",
       "    <tr>\n",
       "      <th>2</th>\n",
       "      <td>1448</td>\n",
       "      <td>49</td>\n",
       "      <td>0</td>\n",
       "      <td>0</td>\n",
       "      <td>0</td>\n",
       "      <td>0</td>\n",
       "      <td>0</td>\n",
       "      <td>1</td>\n",
       "      <td>1</td>\n",
       "      <td>0</td>\n",
       "      <td>0</td>\n",
       "      <td>B</td>\n",
       "    </tr>\n",
       "    <tr>\n",
       "      <th>3</th>\n",
       "      <td>1797</td>\n",
       "      <td>146442</td>\n",
       "      <td>1787</td>\n",
       "      <td>2282</td>\n",
       "      <td>10527</td>\n",
       "      <td>1</td>\n",
       "      <td>0</td>\n",
       "      <td>0</td>\n",
       "      <td>0</td>\n",
       "      <td>1</td>\n",
       "      <td>0</td>\n",
       "      <td>H</td>\n",
       "    </tr>\n",
       "    <tr>\n",
       "      <th>4</th>\n",
       "      <td>749</td>\n",
       "      <td>2083</td>\n",
       "      <td>109</td>\n",
       "      <td>110</td>\n",
       "      <td>5621</td>\n",
       "      <td>1</td>\n",
       "      <td>1</td>\n",
       "      <td>0</td>\n",
       "      <td>0</td>\n",
       "      <td>0</td>\n",
       "      <td>0</td>\n",
       "      <td>H</td>\n",
       "    </tr>\n",
       "  </tbody>\n",
       "</table>\n",
       "</div>"
      ],
      "text/plain": [
       "    age  total_tweets  total_following  total_followers  total_likes  \\\n",
       "0   992         10924              185              578        13651   \n",
       "1  1762          7863               70              106         3771   \n",
       "2  1448            49                0                0            0   \n",
       "3  1797        146442             1787             2282        10527   \n",
       "4   749          2083              109              110         5621   \n",
       "\n",
       "   geo_located  default_profile  less_than_30_followers  less_than_50_tweets  \\\n",
       "0            0                0                       0                    0   \n",
       "1            1                0                       0                    0   \n",
       "2            0                0                       1                    1   \n",
       "3            1                0                       0                    0   \n",
       "4            1                1                       0                    0   \n",
       "\n",
       "   more_than_1000_followers  following_to_followers Label  \n",
       "0                         0                       0     H  \n",
       "1                         0                       0     H  \n",
       "2                         0                       0     B  \n",
       "3                         1                       0     H  \n",
       "4                         0                       0     H  "
      ]
     },
     "execution_count": 35,
     "metadata": {},
     "output_type": "execute_result"
    }
   ],
   "source": [
    "combined_df = pd.concat([bot, genuine])\n",
    "new_df = combined_df.sample(frac=1).reset_index(drop=True)\n",
    "new_df.head()"
   ]
  },
  {
   "cell_type": "code",
   "execution_count": 36,
   "id": "4c2a09c7",
   "metadata": {
    "scrolled": true
   },
   "outputs": [
    {
     "data": {
      "text/plain": [
       "H    3474\n",
       "B     640\n",
       "Name: Label, dtype: int64"
      ]
     },
     "execution_count": 36,
     "metadata": {},
     "output_type": "execute_result"
    }
   ],
   "source": [
    "new_df.Label.value_counts()"
   ]
  },
  {
   "cell_type": "code",
   "execution_count": 37,
   "id": "0a90c7c1",
   "metadata": {},
   "outputs": [],
   "source": [
    "data = new_df.drop(['Label'], axis = 1)\n",
    "labels = pd.DataFrame(columns = new_df['Label'])\n",
    "labels = labels.transpose()\n",
    "labels.reset_index(inplace=True)"
   ]
  },
  {
   "cell_type": "code",
   "execution_count": 38,
   "id": "44643ea8",
   "metadata": {},
   "outputs": [
    {
     "data": {
      "text/html": [
       "<div>\n",
       "<style scoped>\n",
       "    .dataframe tbody tr th:only-of-type {\n",
       "        vertical-align: middle;\n",
       "    }\n",
       "\n",
       "    .dataframe tbody tr th {\n",
       "        vertical-align: top;\n",
       "    }\n",
       "\n",
       "    .dataframe thead th {\n",
       "        text-align: right;\n",
       "    }\n",
       "</style>\n",
       "<table border=\"1\" class=\"dataframe\">\n",
       "  <thead>\n",
       "    <tr style=\"text-align: right;\">\n",
       "      <th></th>\n",
       "      <th>age</th>\n",
       "      <th>total_tweets</th>\n",
       "      <th>total_following</th>\n",
       "      <th>total_followers</th>\n",
       "      <th>total_likes</th>\n",
       "      <th>geo_located</th>\n",
       "      <th>default_profile</th>\n",
       "      <th>less_than_30_followers</th>\n",
       "      <th>less_than_50_tweets</th>\n",
       "      <th>more_than_1000_followers</th>\n",
       "      <th>following_to_followers</th>\n",
       "    </tr>\n",
       "  </thead>\n",
       "  <tbody>\n",
       "    <tr>\n",
       "      <th>0</th>\n",
       "      <td>0.297006</td>\n",
       "      <td>0.027340</td>\n",
       "      <td>0.003995</td>\n",
       "      <td>0.000586</td>\n",
       "      <td>0.043481</td>\n",
       "      <td>0</td>\n",
       "      <td>0</td>\n",
       "      <td>0</td>\n",
       "      <td>0</td>\n",
       "      <td>0</td>\n",
       "      <td>0</td>\n",
       "    </tr>\n",
       "    <tr>\n",
       "      <th>1</th>\n",
       "      <td>0.527545</td>\n",
       "      <td>0.019679</td>\n",
       "      <td>0.001512</td>\n",
       "      <td>0.000107</td>\n",
       "      <td>0.012011</td>\n",
       "      <td>1</td>\n",
       "      <td>0</td>\n",
       "      <td>0</td>\n",
       "      <td>0</td>\n",
       "      <td>0</td>\n",
       "      <td>0</td>\n",
       "    </tr>\n",
       "    <tr>\n",
       "      <th>2</th>\n",
       "      <td>0.433533</td>\n",
       "      <td>0.000123</td>\n",
       "      <td>0.000000</td>\n",
       "      <td>0.000000</td>\n",
       "      <td>0.000000</td>\n",
       "      <td>0</td>\n",
       "      <td>0</td>\n",
       "      <td>1</td>\n",
       "      <td>1</td>\n",
       "      <td>0</td>\n",
       "      <td>0</td>\n",
       "    </tr>\n",
       "    <tr>\n",
       "      <th>3</th>\n",
       "      <td>0.538024</td>\n",
       "      <td>0.366513</td>\n",
       "      <td>0.038588</td>\n",
       "      <td>0.002312</td>\n",
       "      <td>0.033530</td>\n",
       "      <td>1</td>\n",
       "      <td>0</td>\n",
       "      <td>0</td>\n",
       "      <td>0</td>\n",
       "      <td>1</td>\n",
       "      <td>0</td>\n",
       "    </tr>\n",
       "    <tr>\n",
       "      <th>4</th>\n",
       "      <td>0.224251</td>\n",
       "      <td>0.005213</td>\n",
       "      <td>0.002354</td>\n",
       "      <td>0.000111</td>\n",
       "      <td>0.017904</td>\n",
       "      <td>1</td>\n",
       "      <td>1</td>\n",
       "      <td>0</td>\n",
       "      <td>0</td>\n",
       "      <td>0</td>\n",
       "      <td>0</td>\n",
       "    </tr>\n",
       "  </tbody>\n",
       "</table>\n",
       "</div>"
      ],
      "text/plain": [
       "        age  total_tweets  total_following  total_followers  total_likes  \\\n",
       "0  0.297006      0.027340         0.003995         0.000586     0.043481   \n",
       "1  0.527545      0.019679         0.001512         0.000107     0.012011   \n",
       "2  0.433533      0.000123         0.000000         0.000000     0.000000   \n",
       "3  0.538024      0.366513         0.038588         0.002312     0.033530   \n",
       "4  0.224251      0.005213         0.002354         0.000111     0.017904   \n",
       "\n",
       "   geo_located  default_profile  less_than_30_followers  less_than_50_tweets  \\\n",
       "0            0                0                       0                    0   \n",
       "1            1                0                       0                    0   \n",
       "2            0                0                       1                    1   \n",
       "3            1                0                       0                    0   \n",
       "4            1                1                       0                    0   \n",
       "\n",
       "   more_than_1000_followers  following_to_followers  \n",
       "0                         0                       0  \n",
       "1                         0                       0  \n",
       "2                         0                       0  \n",
       "3                         1                       0  \n",
       "4                         0                       0  "
      ]
     },
     "execution_count": 38,
     "metadata": {},
     "output_type": "execute_result"
    }
   ],
   "source": [
    "def scale_df(df):\n",
    "    scaler = preprocessing.MinMaxScaler()\n",
    "    names = ['age', 'total_tweets', 'total_following', 'total_followers', 'total_likes']\n",
    "    df[names] = scaler.fit_transform(df[names])\n",
    "    return df\n",
    "\n",
    "data = scale_df(data)\n",
    "data.head()"
   ]
  },
  {
   "cell_type": "code",
   "execution_count": 39,
   "id": "649cc204",
   "metadata": {},
   "outputs": [
    {
     "data": {
      "text/plain": [
       "((3291, 11), (823, 11))"
      ]
     },
     "execution_count": 39,
     "metadata": {},
     "output_type": "execute_result"
    }
   ],
   "source": [
    "df_train, df_test = train_test_split(data, test_size=0.2, random_state=21)\n",
    "\n",
    "test_index = list(df_test.index)\n",
    "df_test = df_test.values\n",
    "\n",
    "df_train.shape, df_test.shape"
   ]
  },
  {
   "cell_type": "code",
   "execution_count": 40,
   "id": "5faa9ac3",
   "metadata": {},
   "outputs": [],
   "source": [
    "b = labels['Label'] == 'B'\n",
    "h = labels['Label'] == 'H'\n",
    "\n",
    "df_b = df_train[b]\n",
    "df_h = df_train[h]\n",
    "\n",
    "x_b = df_b.values\n",
    "x_h = df_h.values"
   ]
  },
  {
   "cell_type": "code",
   "execution_count": 41,
   "id": "33036445",
   "metadata": {},
   "outputs": [
    {
     "data": {
      "text/plain": [
       "((507, 11), (2784, 11))"
      ]
     },
     "execution_count": 41,
     "metadata": {},
     "output_type": "execute_result"
    }
   ],
   "source": [
    "x_b.shape, x_h.shape"
   ]
  },
  {
   "cell_type": "code",
   "execution_count": 42,
   "id": "84517623",
   "metadata": {},
   "outputs": [],
   "source": [
    "def Model():\n",
    "    model = Sequential()\n",
    "    model.add(Dense(128, input_dim=data.shape[1], activation='relu'))\n",
    "    model.add(Dense(32, activation='relu'))\n",
    "    model.add(Dense(128, activation='relu'))\n",
    "    model.add(Dense(data.shape[1]))\n",
    "    model.compile(loss='mean_squared_error', optimizer='adam')\n",
    "    return model"
   ]
  },
  {
   "cell_type": "code",
   "execution_count": 43,
   "id": "15c3061f",
   "metadata": {},
   "outputs": [],
   "source": [
    "early_stopping = EarlyStopping(monitor='val_loss', min_delta=0, patience=5, verbose=1, restore_best_weights=True)"
   ]
  },
  {
   "cell_type": "code",
   "execution_count": 44,
   "id": "6befc7f3",
   "metadata": {},
   "outputs": [],
   "source": [
    "def evaluate(model):\n",
    "    return (np.sqrt(metrics.mean_squared_error(model.predict(x_b), x_b)),\n",
    "            np.sqrt(metrics.mean_squared_error(model.predict(x_h), x_h)))"
   ]
  },
  {
   "cell_type": "code",
   "execution_count": 45,
   "id": "fa30bb57",
   "metadata": {
    "scrolled": true
   },
   "outputs": [
    {
     "name": "stdout",
     "output_type": "stream",
     "text": [
      "Epoch 1/100\n",
      "13/13 [==============================] - 0s 12ms/step - loss: 0.1453 - val_loss: 0.0685\n",
      "Epoch 2/100\n",
      "13/13 [==============================] - 0s 5ms/step - loss: 0.0560 - val_loss: 0.0299\n",
      "Epoch 3/100\n",
      "13/13 [==============================] - 0s 5ms/step - loss: 0.0271 - val_loss: 0.0146\n",
      "Epoch 4/100\n",
      "13/13 [==============================] - 0s 5ms/step - loss: 0.0130 - val_loss: 0.0078\n",
      "Epoch 5/100\n",
      "13/13 [==============================] - 0s 5ms/step - loss: 0.0096 - val_loss: 0.0051\n",
      "Epoch 6/100\n",
      "13/13 [==============================] - 0s 5ms/step - loss: 0.0052 - val_loss: 0.0038\n",
      "Epoch 7/100\n",
      "13/13 [==============================] - 0s 5ms/step - loss: 0.0031 - val_loss: 0.0029\n",
      "Epoch 8/100\n",
      "13/13 [==============================] - 0s 5ms/step - loss: 0.0030 - val_loss: 0.0023\n",
      "Epoch 9/100\n",
      "13/13 [==============================] - 0s 6ms/step - loss: 0.0015 - val_loss: 0.0018\n",
      "Epoch 10/100\n",
      "13/13 [==============================] - 0s 5ms/step - loss: 0.0013 - val_loss: 0.0015\n",
      "Epoch 11/100\n",
      "13/13 [==============================] - 0s 5ms/step - loss: 7.3156e-04 - val_loss: 0.0011\n",
      "Epoch 12/100\n",
      "13/13 [==============================] - 0s 5ms/step - loss: 4.7040e-04 - val_loss: 8.2839e-04\n",
      "Epoch 13/100\n",
      "13/13 [==============================] - 0s 5ms/step - loss: 3.8432e-04 - val_loss: 7.1944e-04\n",
      "Epoch 14/100\n",
      "13/13 [==============================] - 0s 5ms/step - loss: 3.1983e-04 - val_loss: 6.2920e-04\n",
      "Epoch 15/100\n",
      "13/13 [==============================] - 0s 5ms/step - loss: 2.6771e-04 - val_loss: 6.0021e-04\n",
      "Epoch 16/100\n",
      "13/13 [==============================] - 0s 4ms/step - loss: 1.9217e-04 - val_loss: 5.7919e-04\n",
      "Epoch 17/100\n",
      "13/13 [==============================] - 0s 5ms/step - loss: 1.8074e-04 - val_loss: 5.4609e-04\n",
      "Epoch 18/100\n",
      "13/13 [==============================] - 0s 5ms/step - loss: 1.4753e-04 - val_loss: 5.5011e-04\n",
      "Epoch 19/100\n",
      "13/13 [==============================] - 0s 6ms/step - loss: 1.3376e-04 - val_loss: 5.6018e-04\n",
      "Epoch 20/100\n",
      "13/13 [==============================] - 0s 5ms/step - loss: 1.1601e-04 - val_loss: 5.1699e-04\n",
      "Epoch 21/100\n",
      "13/13 [==============================] - 0s 4ms/step - loss: 1.0010e-04 - val_loss: 4.9796e-04\n",
      "Epoch 22/100\n",
      "13/13 [==============================] - 0s 5ms/step - loss: 9.7590e-05 - val_loss: 5.0646e-04\n",
      "Epoch 23/100\n",
      "13/13 [==============================] - 0s 5ms/step - loss: 8.5138e-05 - val_loss: 5.0006e-04\n",
      "Epoch 24/100\n",
      "13/13 [==============================] - 0s 5ms/step - loss: 1.1497e-04 - val_loss: 4.8170e-04\n",
      "Epoch 25/100\n",
      "13/13 [==============================] - 0s 5ms/step - loss: 6.6554e-05 - val_loss: 4.7289e-04\n",
      "Epoch 26/100\n",
      "13/13 [==============================] - 0s 5ms/step - loss: 7.2752e-05 - val_loss: 4.7071e-04\n",
      "Epoch 27/100\n",
      "13/13 [==============================] - 0s 5ms/step - loss: 8.0112e-05 - val_loss: 4.6516e-04\n",
      "Epoch 28/100\n",
      "13/13 [==============================] - 0s 5ms/step - loss: 5.7297e-05 - val_loss: 4.6333e-04\n",
      "Epoch 29/100\n",
      "13/13 [==============================] - 0s 5ms/step - loss: 5.6335e-05 - val_loss: 4.4749e-04\n",
      "Epoch 30/100\n",
      "13/13 [==============================] - 0s 5ms/step - loss: 3.7384e-05 - val_loss: 4.4274e-04\n",
      "Epoch 31/100\n",
      "13/13 [==============================] - 0s 5ms/step - loss: 4.4910e-05 - val_loss: 4.3736e-04\n",
      "Epoch 32/100\n",
      "13/13 [==============================] - 0s 5ms/step - loss: 3.2925e-05 - val_loss: 4.3245e-04\n",
      "Epoch 33/100\n",
      "13/13 [==============================] - 0s 5ms/step - loss: 4.2089e-05 - val_loss: 4.3910e-04\n",
      "Epoch 34/100\n",
      "13/13 [==============================] - 0s 5ms/step - loss: 3.7507e-05 - val_loss: 4.3175e-04\n",
      "Epoch 35/100\n",
      "13/13 [==============================] - 0s 4ms/step - loss: 2.8332e-05 - val_loss: 4.4193e-04\n",
      "Epoch 36/100\n",
      "13/13 [==============================] - 0s 5ms/step - loss: 2.3854e-05 - val_loss: 4.2209e-04\n",
      "Epoch 37/100\n",
      "13/13 [==============================] - 0s 6ms/step - loss: 2.4673e-05 - val_loss: 4.3095e-04\n",
      "Epoch 38/100\n",
      "13/13 [==============================] - 0s 6ms/step - loss: 2.2253e-05 - val_loss: 4.2436e-04\n",
      "Epoch 39/100\n",
      "13/13 [==============================] - 0s 6ms/step - loss: 2.4449e-05 - val_loss: 4.2020e-04\n",
      "Epoch 40/100\n",
      "13/13 [==============================] - 0s 6ms/step - loss: 1.8017e-05 - val_loss: 4.1935e-04\n",
      "Epoch 41/100\n",
      "13/13 [==============================] - 0s 6ms/step - loss: 2.1543e-05 - val_loss: 4.1113e-04\n",
      "Epoch 42/100\n",
      "13/13 [==============================] - 0s 7ms/step - loss: 1.8002e-05 - val_loss: 4.2232e-04\n",
      "Epoch 43/100\n",
      "13/13 [==============================] - 0s 5ms/step - loss: 1.5159e-05 - val_loss: 4.1282e-04\n",
      "Epoch 44/100\n",
      "13/13 [==============================] - 0s 7ms/step - loss: 2.2726e-05 - val_loss: 4.1476e-04\n",
      "Epoch 45/100\n",
      "13/13 [==============================] - 0s 6ms/step - loss: 1.8367e-05 - val_loss: 4.1782e-04\n",
      "Epoch 46/100\n",
      "13/13 [==============================] - 0s 6ms/step - loss: 1.8423e-05 - val_loss: 4.1065e-04\n",
      "Epoch 47/100\n",
      "13/13 [==============================] - 0s 7ms/step - loss: 1.4235e-05 - val_loss: 4.0674e-04\n",
      "Epoch 48/100\n",
      "13/13 [==============================] - 0s 6ms/step - loss: 1.5407e-05 - val_loss: 4.0366e-04\n",
      "Epoch 49/100\n",
      "13/13 [==============================] - 0s 6ms/step - loss: 1.2955e-05 - val_loss: 4.0395e-04\n",
      "Epoch 50/100\n",
      "13/13 [==============================] - 0s 6ms/step - loss: 1.1991e-05 - val_loss: 4.0287e-04\n",
      "Epoch 51/100\n",
      "13/13 [==============================] - 0s 6ms/step - loss: 1.3888e-05 - val_loss: 3.9936e-04\n",
      "Epoch 52/100\n",
      "13/13 [==============================] - 0s 6ms/step - loss: 1.1234e-05 - val_loss: 4.0450e-04\n",
      "Epoch 53/100\n",
      "13/13 [==============================] - 0s 6ms/step - loss: 1.1437e-05 - val_loss: 3.9591e-04\n",
      "Epoch 54/100\n",
      "13/13 [==============================] - 0s 7ms/step - loss: 9.1251e-06 - val_loss: 3.9739e-04\n",
      "Epoch 55/100\n",
      "13/13 [==============================] - 0s 7ms/step - loss: 9.1039e-06 - val_loss: 3.9456e-04\n",
      "Epoch 56/100\n",
      "13/13 [==============================] - 0s 7ms/step - loss: 1.1122e-05 - val_loss: 3.9879e-04\n",
      "Epoch 57/100\n",
      "13/13 [==============================] - 0s 6ms/step - loss: 1.1181e-05 - val_loss: 3.9332e-04\n",
      "Epoch 58/100\n",
      "13/13 [==============================] - 0s 6ms/step - loss: 8.6262e-06 - val_loss: 4.0244e-04\n",
      "Epoch 59/100\n",
      "13/13 [==============================] - 0s 6ms/step - loss: 1.2036e-05 - val_loss: 3.9859e-04\n",
      "Epoch 60/100\n",
      "13/13 [==============================] - 0s 6ms/step - loss: 1.3215e-05 - val_loss: 3.9592e-04\n",
      "Epoch 61/100\n",
      "13/13 [==============================] - 0s 6ms/step - loss: 9.8344e-06 - val_loss: 3.9445e-04\n",
      "Epoch 62/100\n",
      "13/13 [==============================] - 0s 5ms/step - loss: 9.9518e-06 - val_loss: 3.9333e-04\n",
      "Restoring model weights from the end of the best epoch.\n",
      "Epoch 00062: early stopping\n"
     ]
    },
    {
     "data": {
      "text/plain": [
       "(0.009324896682563241, 0.038528377143327824)"
      ]
     },
     "execution_count": 45,
     "metadata": {},
     "output_type": "execute_result"
    }
   ],
   "source": [
    "x_b_train, x_b_test = train_test_split(x_b, test_size=0.2, random_state=21)\n",
    "\n",
    "b_model = Model()\n",
    "b_model.fit(x_b_train, x_b_train, validation_data=(x_b_test, x_b_test), verbose=1, epochs=100, callbacks=[early_stopping])\n",
    "\n",
    "evaluate(b_model)"
   ]
  },
  {
   "cell_type": "code",
   "execution_count": 46,
   "id": "06dc0fc7",
   "metadata": {
    "scrolled": true
   },
   "outputs": [
    {
     "name": "stdout",
     "output_type": "stream",
     "text": [
      "Epoch 1/100\n",
      "70/70 [==============================] - 1s 4ms/step - loss: 0.0549 - val_loss: 0.0045\n",
      "Epoch 2/100\n",
      "70/70 [==============================] - 0s 2ms/step - loss: 0.0036 - val_loss: 5.8307e-04\n",
      "Epoch 3/100\n",
      "70/70 [==============================] - 0s 3ms/step - loss: 5.9425e-04 - val_loss: 2.5259e-04\n",
      "Epoch 4/100\n",
      "70/70 [==============================] - 0s 2ms/step - loss: 3.6191e-04 - val_loss: 1.3166e-04\n",
      "Epoch 5/100\n",
      "70/70 [==============================] - 0s 2ms/step - loss: 2.1006e-04 - val_loss: 1.0244e-04\n",
      "Epoch 6/100\n",
      "70/70 [==============================] - 0s 2ms/step - loss: 1.2513e-04 - val_loss: 1.1028e-04\n",
      "Epoch 7/100\n",
      "70/70 [==============================] - 0s 2ms/step - loss: 1.2968e-04 - val_loss: 5.7833e-05\n",
      "Epoch 8/100\n",
      "70/70 [==============================] - 0s 2ms/step - loss: 8.6752e-05 - val_loss: 4.5775e-05\n",
      "Epoch 9/100\n",
      "70/70 [==============================] - 0s 3ms/step - loss: 5.6151e-05 - val_loss: 3.1133e-05\n",
      "Epoch 10/100\n",
      "70/70 [==============================] - 0s 3ms/step - loss: 4.1161e-05 - val_loss: 2.7323e-05\n",
      "Epoch 11/100\n",
      "70/70 [==============================] - 0s 3ms/step - loss: 3.1161e-05 - val_loss: 2.3322e-05\n",
      "Epoch 12/100\n",
      "70/70 [==============================] - 0s 3ms/step - loss: 2.9232e-05 - val_loss: 2.0801e-05\n",
      "Epoch 13/100\n",
      "70/70 [==============================] - 0s 3ms/step - loss: 2.1270e-05 - val_loss: 2.6049e-05\n",
      "Epoch 14/100\n",
      "70/70 [==============================] - 0s 3ms/step - loss: 2.1018e-05 - val_loss: 1.7915e-05\n",
      "Epoch 15/100\n",
      "70/70 [==============================] - 0s 2ms/step - loss: 1.8166e-05 - val_loss: 1.5023e-05\n",
      "Epoch 16/100\n",
      "70/70 [==============================] - 0s 2ms/step - loss: 1.7091e-05 - val_loss: 1.3840e-05\n",
      "Epoch 17/100\n",
      "70/70 [==============================] - 0s 4ms/step - loss: 1.6671e-05 - val_loss: 1.9198e-05\n",
      "Epoch 18/100\n",
      "70/70 [==============================] - 0s 7ms/step - loss: 1.9640e-05 - val_loss: 1.7394e-05\n",
      "Epoch 19/100\n",
      "70/70 [==============================] - 0s 7ms/step - loss: 1.4796e-05 - val_loss: 1.8142e-05\n",
      "Epoch 20/100\n",
      "70/70 [==============================] - 0s 7ms/step - loss: 1.4868e-05 - val_loss: 1.0401e-05\n",
      "Epoch 21/100\n",
      "70/70 [==============================] - 0s 6ms/step - loss: 1.2405e-05 - val_loss: 1.5172e-05\n",
      "Epoch 22/100\n",
      "70/70 [==============================] - 0s 6ms/step - loss: 1.3508e-05 - val_loss: 1.0598e-05\n",
      "Epoch 23/100\n",
      "70/70 [==============================] - 0s 7ms/step - loss: 1.3797e-05 - val_loss: 1.1570e-05\n",
      "Epoch 24/100\n",
      "70/70 [==============================] - 0s 6ms/step - loss: 1.1769e-05 - val_loss: 1.1602e-05\n",
      "Epoch 25/100\n",
      "70/70 [==============================] - ETA: 0s - loss: 1.1151e-0 - 0s 6ms/step - loss: 1.1181e-05 - val_loss: 1.0778e-05\n",
      "Restoring model weights from the end of the best epoch.\n",
      "Epoch 00025: early stopping\n"
     ]
    },
    {
     "data": {
      "text/plain": [
       "(0.05606625261668509, 0.003225138093944767)"
      ]
     },
     "execution_count": 46,
     "metadata": {},
     "output_type": "execute_result"
    }
   ],
   "source": [
    "x_h_train, x_h_test = train_test_split(x_h, test_size=0.2, random_state=21)\n",
    "\n",
    "h_model = Model()\n",
    "h_model.fit(x_h_train, x_h_train, validation_data=(x_h_test, x_h_test), verbose=1, epochs=100, callbacks=[early_stopping])\n",
    "\n",
    "evaluate(h_model)"
   ]
  },
  {
   "cell_type": "code",
   "execution_count": 47,
   "id": "a9303e60",
   "metadata": {},
   "outputs": [],
   "source": [
    "models = [b_model, h_model]"
   ]
  },
  {
   "cell_type": "code",
   "execution_count": 48,
   "id": "8162212d",
   "metadata": {},
   "outputs": [],
   "source": [
    "def get_pred(df_test, models):\n",
    "    pred_class = []\n",
    "    for i in range(len(df_test)):\n",
    "        loss = []\n",
    "        x = df_test[i].reshape(1, 11)\n",
    "        for model in models:\n",
    "            loss.append(np.sqrt(metrics.mean_squared_error(model.predict(x), x)))\n",
    "        pred_class.append(loss.index(min(loss)))\n",
    "    return pred_class"
   ]
  },
  {
   "cell_type": "code",
   "execution_count": 49,
   "id": "14349021",
   "metadata": {},
   "outputs": [],
   "source": [
    "def get_label(test_index):\n",
    "    num_label = []\n",
    "    for l in range(len(test_index)):\n",
    "        _ = labels.values[test_index[l]][0][0]\n",
    "        if _ == 'B': num_label.append(0)\n",
    "        elif _ == 'H': num_label.append(1)\n",
    "    return num_label"
   ]
  },
  {
   "cell_type": "code",
   "execution_count": 50,
   "id": "3b199311",
   "metadata": {},
   "outputs": [],
   "source": [
    "pred_correct = 0\n",
    "num_label = get_label(test_index)\n",
    "pred_class = get_pred(df_test, models)\n",
    "\n",
    "for i in range(len(num_label)):\n",
    "    if num_label[i] == pred_class[i]: pred_correct += 1"
   ]
  },
  {
   "cell_type": "code",
   "execution_count": 51,
   "id": "d59abfb9",
   "metadata": {},
   "outputs": [
    {
     "name": "stdout",
     "output_type": "stream",
     "text": [
      "Accuracy: 96.47630619684082\n"
     ]
    }
   ],
   "source": [
    "print('Accuracy:', pred_correct/len(num_label) * 100)"
   ]
  },
  {
   "cell_type": "code",
   "execution_count": null,
   "id": "04a9b8ca",
   "metadata": {},
   "outputs": [],
   "source": []
  }
 ],
 "metadata": {
  "kernelspec": {
   "display_name": "Python 3",
   "language": "python",
   "name": "python3"
  },
  "language_info": {
   "codemirror_mode": {
    "name": "ipython",
    "version": 3
   },
   "file_extension": ".py",
   "mimetype": "text/x-python",
   "name": "python",
   "nbconvert_exporter": "python",
   "pygments_lexer": "ipython3",
   "version": "3.8.10"
  }
 },
 "nbformat": 4,
 "nbformat_minor": 5
}
