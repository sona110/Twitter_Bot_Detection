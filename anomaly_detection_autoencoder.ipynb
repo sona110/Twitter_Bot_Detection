{
 "cells": [
  {
   "cell_type": "code",
   "execution_count": 6,
   "id": "1d4426d2",
   "metadata": {},
   "outputs": [],
   "source": [
    "import tensorflow as tf\n",
    "import matplotlib.pyplot as plt\n",
    "import seaborn as sns\n",
    "import numpy as np\n",
    "import pandas as pd\n",
    "\n",
    "from sklearn import preprocessing\n",
    "from sklearn.linear_model import LogisticRegression\n",
    "from sklearn.ensemble import AdaBoostClassifier\n",
    "from sklearn.neighbors import KNeighborsClassifier\n",
    "from sklearn.tree import DecisionTreeClassifier\n",
    "from sklearn.model_selection import train_test_split\n",
    "from sklearn.metrics import accuracy_score, precision_score, recall_score, f1_score, roc_curve, auc\n",
    "\n",
    "from imblearn.over_sampling import SMOTE\n",
    "\n",
    "from tensorflow.keras.models import Model\n",
    "from tensorflow.keras.layers import Dense\n",
    "from tensorflow.keras import optimizers, Sequential"
   ]
  },
  {
   "cell_type": "code",
   "execution_count": 7,
   "id": "c3667fd8",
   "metadata": {},
   "outputs": [],
   "source": [
    "def get_accuracy(AL, y, classifier, verbose=1):\n",
    "    \n",
    "    try:\n",
    "        AL = np.array(AL)\n",
    "        y = np.array(y)\n",
    "\n",
    "        AL = AL.reshape(-1)\n",
    "        y = y.reshape(-1)\n",
    "\n",
    "        AL = AL > 0.5\n",
    "        AL = AL.astype(int)\n",
    "\n",
    "        y = y > 0.5\n",
    "        y = y.astype(int)\n",
    "\n",
    "        total = AL.shape[0]\n",
    "\n",
    "        TP = np.sum(np.logical_and(AL==1, y==1))\n",
    "        TN = np.sum(np.logical_and(AL==0, y==0))\n",
    "\n",
    "        FP = np.sum(np.logical_and(AL==1, y==0))\n",
    "        FN = np.sum(np.logical_and(AL==0, y==1))\n",
    "\n",
    "        P = TP / (TP + FP)\n",
    "        R = TP / (TP + FN)\n",
    "        F1 = (2 * P * R) / (P + R)\n",
    "\n",
    "\n",
    "        ACC = np.sum(AL == y)/total\n",
    "\n",
    "\n",
    "        if verbose == 1:\n",
    "            print(\"\\nAccuracy: {} \\n\".format(ACC))\n",
    "            print(\"True Positive: {} \\nTrue Negative: {}\\nFalse Positive: {} \\nFalse Negative: {}\\n\".format(TP,TN, FP, FN))\n",
    "            print(\"Precision: {} \\nRecall: {} \\nF1 Score: {}\\n\".format(P, R, F1))\n",
    "            \n",
    "        return 1\n",
    "    except:\n",
    "        return 0"
   ]
  },
  {
   "cell_type": "code",
   "execution_count": 8,
   "id": "dbb2a97e",
   "metadata": {},
   "outputs": [],
   "source": [
    "def roc_plot(df, classifier):\n",
    "    sns.set(font_scale=1.5)\n",
    "    sns.set_style(\"whitegrid\", {'axes.grid' : False})\n",
    "\n",
    "    scores_train = df.predict_proba(X_train_encode)\n",
    "    scores_test = df.predict_proba(X_test_encode)\n",
    "\n",
    "    y_scores_train = []\n",
    "    y_scores_test = []\n",
    "    for i in range(len(scores_train)):\n",
    "        y_scores_train.append(scores_train[i][1])\n",
    "\n",
    "    for i in range(len(scores_test)):\n",
    "        y_scores_test.append(scores_test[i][1])\n",
    "    \n",
    "    fpr_dt_train, tpr_dt_train, _ = roc_curve(train_labels, y_scores_train, pos_label=1)\n",
    "    fpr_dt_test, tpr_dt_test, _ = roc_curve(test_labels, y_scores_test, pos_label=1)\n",
    "\n",
    "    plt.plot(fpr_dt_train, tpr_dt_train, color='darkblue', label='Train AUC: %5f' %auc(fpr_dt_train, tpr_dt_train))\n",
    "    plt.plot(fpr_dt_test, tpr_dt_test, color='red', ls='--', label='Test AUC: %5f' %auc(fpr_dt_test, tpr_dt_test))\n",
    "    plt.title(classifier)\n",
    "    plt.xlabel(\"False Positive Rate (FPR)\")\n",
    "    plt.ylabel(\"True Positive Rate (TPR)\")\n",
    "    plt.legend(loc='lower right')"
   ]
  },
  {
   "cell_type": "code",
   "execution_count": 213,
   "id": "3f144ff9",
   "metadata": {
    "scrolled": true
   },
   "outputs": [],
   "source": [
    "social1 = pd.read_csv('social_spambots_1.csv')\n",
    "social2 = pd.read_csv('social_spambots_2.csv')\n",
    "social3 = pd.read_csv('social_spambots_3.csv')\n",
    "traditional1 = pd.read_csv('traditional_spambots_1.csv')\n",
    "traditional2 = pd.read_csv('traditional_spambots_2.csv') \n",
    "fake = pd.read_csv('fake_followers.csv')\n",
    "genuine = pd.read_csv('genuine_accounts.csv')\n",
    "\n",
    "requiredColumns = ['created_at', 'updated', 'statuses_count', 'friends_count', 'followers_count', 'favourites_count', \n",
    "                   'default_profile', 'geo_enabled']\n",
    "social1 = social1[requiredColumns]\n",
    "social2 = social2[requiredColumns]\n",
    "social3 = social3[requiredColumns]\n",
    "traditional1 = traditional1[requiredColumns]\n",
    "traditional2 = traditional2[requiredColumns]\n",
    "fake = fake[requiredColumns]\n",
    "genuine = genuine[requiredColumns]\n",
    "\n",
    "def clean_df(df):\n",
    "    df['created_at'] = pd.to_datetime(df['created_at'].tolist(),errors='coerce').astype('datetime64[ns]')\n",
    "    df['updated'] = pd.to_datetime(df['updated'].tolist(),errors='coerce').astype('datetime64[ns]')\n",
    "    df['age'] = (df['updated'] - df['created_at']).astype('timedelta64[D]').fillna(0).astype(np.int64)\n",
    "    df['geo_located'] = df['geo_enabled'].apply(lambda x: 1 if x==x else 0)\n",
    "    df['default_profile'] = df['default_profile'].apply(lambda x: 1 if x==x else 0)\n",
    "    \n",
    "    val = []\n",
    "    for i in df['followers_count']:\n",
    "        if i<30:\n",
    "            val.append(1)\n",
    "        else:\n",
    "            val.append(0)\n",
    "    df['less_than_30_followers'] = val\n",
    "    \n",
    "    val = []\n",
    "    for i in df['statuses_count']:\n",
    "        if i<50:\n",
    "            val.append(1)\n",
    "        else:\n",
    "            val.append(0)\n",
    "    df['less_than_50_tweets'] = val\n",
    "    \n",
    "    val = []\n",
    "    for i in df['followers_count']:\n",
    "        if i>1000:\n",
    "            val.append(1)\n",
    "        else:\n",
    "            val.append(0)\n",
    "    df['more_than_1000_followers'] = val\n",
    "    \n",
    "    val = []\n",
    "    for i,j in zip(df['friends_count'], df['followers_count']):\n",
    "        if j==0:\n",
    "            j=1\n",
    "        if i/j>=100:\n",
    "            val.append(1)\n",
    "        else:\n",
    "            val.append(0)\n",
    "    df['following_to_followers'] = val\n",
    "    \n",
    "    df = df.rename(index=str, columns={\"statuses_count\": \"total_tweets\", \"friends_count\": \"total_following\", \n",
    "                                       \"followers_count\": \"total_followers\", \"favourites_count\": \"total_likes\"})\n",
    "    \n",
    "    return df[['age', 'total_tweets', 'total_following', 'total_followers', 'total_likes', 'geo_located', \n",
    "               'default_profile', 'less_than_30_followers', 'less_than_50_tweets', 'more_than_1000_followers', \n",
    "               'following_to_followers']]\n",
    "\n",
    "social1 = clean_df(social1)\n",
    "social2 = clean_df(social2)\n",
    "social3 = clean_df(social3)\n",
    "traditional1 = clean_df(traditional1)\n",
    "traditional2 = clean_df(traditional2)\n",
    "fake = clean_df(fake)\n",
    "human_accounts = clean_df(genuine)\n",
    "\n",
    "combine = pd.concat([social1, social2, social3, traditional1, traditional2, fake])\n",
    "bot_accounts = combine.sample(frac=1).reset_index(drop=True)"
   ]
  },
  {
   "cell_type": "code",
   "execution_count": 214,
   "id": "d76d917c",
   "metadata": {},
   "outputs": [
    {
     "data": {
      "text/plain": [
       "((9363, 11), (3474, 11))"
      ]
     },
     "execution_count": 214,
     "metadata": {},
     "output_type": "execute_result"
    }
   ],
   "source": [
    "def scale_df(df):\n",
    "    scaler = preprocessing.MinMaxScaler()\n",
    "    names = ['age', 'total_tweets', 'total_following', 'total_followers', 'total_likes']\n",
    "    df[names] = scaler.fit_transform(df[names])\n",
    "    return df\n",
    "\n",
    "bot_accounts = scale_df(bot_accounts)\n",
    "human_accounts = scale_df(human_accounts)\n",
    "bot_accounts.shape, human_accounts.shape"
   ]
  },
  {
   "cell_type": "code",
   "execution_count": 215,
   "id": "ca0f48ff",
   "metadata": {},
   "outputs": [
    {
     "data": {
      "text/plain": [
       "(655, 11)"
      ]
     },
     "execution_count": 215,
     "metadata": {},
     "output_type": "execute_result"
    }
   ],
   "source": [
    "#Bot accounts undersampled to meet Bot to Human ratio of 15%\n",
    "bot_accounts = bot_accounts.sample(frac=0.07)\n",
    "bot_accounts.shape"
   ]
  },
  {
   "cell_type": "code",
   "execution_count": 216,
   "id": "67f3ff48",
   "metadata": {},
   "outputs": [
    {
     "data": {
      "text/html": [
       "<div>\n",
       "<style scoped>\n",
       "    .dataframe tbody tr th:only-of-type {\n",
       "        vertical-align: middle;\n",
       "    }\n",
       "\n",
       "    .dataframe tbody tr th {\n",
       "        vertical-align: top;\n",
       "    }\n",
       "\n",
       "    .dataframe thead th {\n",
       "        text-align: right;\n",
       "    }\n",
       "</style>\n",
       "<table border=\"1\" class=\"dataframe\">\n",
       "  <thead>\n",
       "    <tr style=\"text-align: right;\">\n",
       "      <th></th>\n",
       "      <th>age</th>\n",
       "      <th>total_tweets</th>\n",
       "      <th>total_following</th>\n",
       "      <th>total_followers</th>\n",
       "      <th>total_likes</th>\n",
       "      <th>geo_located</th>\n",
       "      <th>default_profile</th>\n",
       "      <th>less_than_30_followers</th>\n",
       "      <th>less_than_50_tweets</th>\n",
       "      <th>more_than_1000_followers</th>\n",
       "      <th>following_to_followers</th>\n",
       "      <th>Label</th>\n",
       "    </tr>\n",
       "  </thead>\n",
       "  <tbody>\n",
       "    <tr>\n",
       "      <th>0</th>\n",
       "      <td>0.974419</td>\n",
       "      <td>0.266128</td>\n",
       "      <td>0.011445</td>\n",
       "      <td>0.000729</td>\n",
       "      <td>0.038235</td>\n",
       "      <td>1</td>\n",
       "      <td>0</td>\n",
       "      <td>0</td>\n",
       "      <td>0</td>\n",
       "      <td>0</td>\n",
       "      <td>0</td>\n",
       "      <td>0</td>\n",
       "    </tr>\n",
       "    <tr>\n",
       "      <th>1</th>\n",
       "      <td>0.731894</td>\n",
       "      <td>0.009889</td>\n",
       "      <td>0.004707</td>\n",
       "      <td>0.000287</td>\n",
       "      <td>0.003838</td>\n",
       "      <td>1</td>\n",
       "      <td>0</td>\n",
       "      <td>0</td>\n",
       "      <td>0</td>\n",
       "      <td>0</td>\n",
       "      <td>0</td>\n",
       "      <td>0</td>\n",
       "    </tr>\n",
       "    <tr>\n",
       "      <th>2</th>\n",
       "      <td>0.274781</td>\n",
       "      <td>0.000340</td>\n",
       "      <td>0.000506</td>\n",
       "      <td>0.000011</td>\n",
       "      <td>0.000000</td>\n",
       "      <td>0</td>\n",
       "      <td>0</td>\n",
       "      <td>1</td>\n",
       "      <td>0</td>\n",
       "      <td>0</td>\n",
       "      <td>0</td>\n",
       "      <td>1</td>\n",
       "    </tr>\n",
       "    <tr>\n",
       "      <th>3</th>\n",
       "      <td>0.481063</td>\n",
       "      <td>0.091920</td>\n",
       "      <td>0.006586</td>\n",
       "      <td>0.000263</td>\n",
       "      <td>0.001057</td>\n",
       "      <td>1</td>\n",
       "      <td>0</td>\n",
       "      <td>0</td>\n",
       "      <td>0</td>\n",
       "      <td>0</td>\n",
       "      <td>0</td>\n",
       "      <td>0</td>\n",
       "    </tr>\n",
       "    <tr>\n",
       "      <th>4</th>\n",
       "      <td>0.265449</td>\n",
       "      <td>0.017893</td>\n",
       "      <td>0.003045</td>\n",
       "      <td>0.000254</td>\n",
       "      <td>0.006291</td>\n",
       "      <td>0</td>\n",
       "      <td>0</td>\n",
       "      <td>0</td>\n",
       "      <td>0</td>\n",
       "      <td>0</td>\n",
       "      <td>0</td>\n",
       "      <td>0</td>\n",
       "    </tr>\n",
       "  </tbody>\n",
       "</table>\n",
       "</div>"
      ],
      "text/plain": [
       "        age  total_tweets  total_following  total_followers  total_likes  \\\n",
       "0  0.974419      0.266128         0.011445         0.000729     0.038235   \n",
       "1  0.731894      0.009889         0.004707         0.000287     0.003838   \n",
       "2  0.274781      0.000340         0.000506         0.000011     0.000000   \n",
       "3  0.481063      0.091920         0.006586         0.000263     0.001057   \n",
       "4  0.265449      0.017893         0.003045         0.000254     0.006291   \n",
       "\n",
       "   geo_located  default_profile  less_than_30_followers  less_than_50_tweets  \\\n",
       "0            1                0                       0                    0   \n",
       "1            1                0                       0                    0   \n",
       "2            0                0                       1                    0   \n",
       "3            1                0                       0                    0   \n",
       "4            0                0                       0                    0   \n",
       "\n",
       "   more_than_1000_followers  following_to_followers  Label  \n",
       "0                         0                       0      0  \n",
       "1                         0                       0      0  \n",
       "2                         0                       0      1  \n",
       "3                         0                       0      0  \n",
       "4                         0                       0      0  "
      ]
     },
     "execution_count": 216,
     "metadata": {},
     "output_type": "execute_result"
    }
   ],
   "source": [
    "bot_accounts['Label'] = 1\n",
    "human_accounts['Label'] = 0\n",
    "\n",
    "combined_df = pd.concat([bot_accounts, human_accounts])\n",
    "\n",
    "df = combined_df.sample(frac=1).reset_index(drop=True)\n",
    "\n",
    "df.head()"
   ]
  },
  {
   "cell_type": "code",
   "execution_count": 217,
   "id": "7c05280e",
   "metadata": {},
   "outputs": [],
   "source": [
    "data = df.iloc[:,:-1].values\n",
    "labels = df.iloc[:,-1].values"
   ]
  },
  {
   "cell_type": "code",
   "execution_count": 218,
   "id": "390b1f67",
   "metadata": {},
   "outputs": [],
   "source": [
    "train_data, test_data, train_labels, test_labels = train_test_split(data, labels, test_size = 0.2, random_state = 21)"
   ]
  },
  {
   "cell_type": "code",
   "execution_count": 219,
   "id": "2391c6dd",
   "metadata": {},
   "outputs": [
    {
     "data": {
      "text/plain": [
       "((3303, 11), (826, 11))"
      ]
     },
     "execution_count": 219,
     "metadata": {},
     "output_type": "execute_result"
    }
   ],
   "source": [
    "train_data.shape, test_data.shape"
   ]
  },
  {
   "cell_type": "code",
   "execution_count": 220,
   "id": "9772daf3",
   "metadata": {},
   "outputs": [],
   "source": [
    "normal_train_data = train_data[train_labels==0]   # means it is human\n",
    "normal_test_data = test_data[test_labels==0]\n",
    "\n",
    "anomalous_train_data = train_data[train_labels==1]   #means it is bot\n",
    "anomalous_test_data = test_data[test_labels==1]"
   ]
  },
  {
   "cell_type": "code",
   "execution_count": 221,
   "id": "e70d1906",
   "metadata": {},
   "outputs": [],
   "source": [
    "def Model():\n",
    "    model = Sequential()\n",
    "    model.add(Dense(64, input_dim=data.shape[1], activation='relu'))\n",
    "    model.add(Dense(8, activation='relu'))\n",
    "    model.add(Dense(64, activation='relu'))\n",
    "    model.add(Dense(data.shape[1]))\n",
    "    model.compile(loss='mean_squared_error', optimizer='adam')\n",
    "    return model\n",
    "\n",
    "autoencoder = Model()"
   ]
  },
  {
   "cell_type": "code",
   "execution_count": 222,
   "id": "445f7b7d",
   "metadata": {
    "scrolled": true
   },
   "outputs": [
    {
     "name": "stdout",
     "output_type": "stream",
     "text": [
      "Epoch 1/100\n",
      "1/1 [==============================] - 0s 447ms/step - loss: 0.1428 - val_loss: 0.1448\n",
      "Epoch 2/100\n",
      "1/1 [==============================] - 0s 45ms/step - loss: 0.1386 - val_loss: 0.1409\n",
      "Epoch 3/100\n",
      "1/1 [==============================] - 0s 41ms/step - loss: 0.1346 - val_loss: 0.1372\n",
      "Epoch 4/100\n",
      "1/1 [==============================] - 0s 56ms/step - loss: 0.1309 - val_loss: 0.1339\n",
      "Epoch 5/100\n",
      "1/1 [==============================] - 0s 44ms/step - loss: 0.1275 - val_loss: 0.1308\n",
      "Epoch 6/100\n",
      "1/1 [==============================] - 0s 48ms/step - loss: 0.1244 - val_loss: 0.1279\n",
      "Epoch 7/100\n",
      "1/1 [==============================] - 0s 48ms/step - loss: 0.1215 - val_loss: 0.1253\n",
      "Epoch 8/100\n",
      "1/1 [==============================] - 0s 56ms/step - loss: 0.1188 - val_loss: 0.1228\n",
      "Epoch 9/100\n",
      "1/1 [==============================] - 0s 56ms/step - loss: 0.1164 - val_loss: 0.1205\n",
      "Epoch 10/100\n",
      "1/1 [==============================] - 0s 56ms/step - loss: 0.1142 - val_loss: 0.1183\n",
      "Epoch 11/100\n",
      "1/1 [==============================] - 0s 52ms/step - loss: 0.1121 - val_loss: 0.1161\n",
      "Epoch 12/100\n",
      "1/1 [==============================] - 0s 48ms/step - loss: 0.1100 - val_loss: 0.1139\n",
      "Epoch 13/100\n",
      "1/1 [==============================] - 0s 52ms/step - loss: 0.1079 - val_loss: 0.1116\n",
      "Epoch 14/100\n",
      "1/1 [==============================] - 0s 43ms/step - loss: 0.1058 - val_loss: 0.1093\n",
      "Epoch 15/100\n",
      "1/1 [==============================] - 0s 41ms/step - loss: 0.1037 - val_loss: 0.1070\n",
      "Epoch 16/100\n",
      "1/1 [==============================] - 0s 43ms/step - loss: 0.1015 - val_loss: 0.1047\n",
      "Epoch 17/100\n",
      "1/1 [==============================] - 0s 48ms/step - loss: 0.0993 - val_loss: 0.1023\n",
      "Epoch 18/100\n",
      "1/1 [==============================] - 0s 48ms/step - loss: 0.0970 - val_loss: 0.0999\n",
      "Epoch 19/100\n",
      "1/1 [==============================] - 0s 48ms/step - loss: 0.0947 - val_loss: 0.0976\n",
      "Epoch 20/100\n",
      "1/1 [==============================] - 0s 48ms/step - loss: 0.0923 - val_loss: 0.0952\n",
      "Epoch 21/100\n",
      "1/1 [==============================] - 0s 49ms/step - loss: 0.0899 - val_loss: 0.0927\n",
      "Epoch 22/100\n",
      "1/1 [==============================] - 0s 48ms/step - loss: 0.0875 - val_loss: 0.0903\n",
      "Epoch 23/100\n",
      "1/1 [==============================] - 0s 45ms/step - loss: 0.0850 - val_loss: 0.0879\n",
      "Epoch 24/100\n",
      "1/1 [==============================] - 0s 49ms/step - loss: 0.0825 - val_loss: 0.0854\n",
      "Epoch 25/100\n",
      "1/1 [==============================] - 0s 48ms/step - loss: 0.0799 - val_loss: 0.0830\n",
      "Epoch 26/100\n",
      "1/1 [==============================] - 0s 53ms/step - loss: 0.0773 - val_loss: 0.0806\n",
      "Epoch 27/100\n",
      "1/1 [==============================] - 0s 50ms/step - loss: 0.0747 - val_loss: 0.0782\n",
      "Epoch 28/100\n",
      "1/1 [==============================] - 0s 48ms/step - loss: 0.0720 - val_loss: 0.0758\n",
      "Epoch 29/100\n",
      "1/1 [==============================] - 0s 50ms/step - loss: 0.0693 - val_loss: 0.0734\n",
      "Epoch 30/100\n",
      "1/1 [==============================] - 0s 51ms/step - loss: 0.0666 - val_loss: 0.0711\n",
      "Epoch 31/100\n",
      "1/1 [==============================] - 0s 49ms/step - loss: 0.0640 - val_loss: 0.0689\n",
      "Epoch 32/100\n",
      "1/1 [==============================] - 0s 48ms/step - loss: 0.0613 - val_loss: 0.0668\n",
      "Epoch 33/100\n",
      "1/1 [==============================] - 0s 48ms/step - loss: 0.0587 - val_loss: 0.0647\n",
      "Epoch 34/100\n",
      "1/1 [==============================] - 0s 44ms/step - loss: 0.0562 - val_loss: 0.0628\n",
      "Epoch 35/100\n",
      "1/1 [==============================] - 0s 48ms/step - loss: 0.0538 - val_loss: 0.0610\n",
      "Epoch 36/100\n",
      "1/1 [==============================] - 0s 48ms/step - loss: 0.0515 - val_loss: 0.0594\n",
      "Epoch 37/100\n",
      "1/1 [==============================] - 0s 48ms/step - loss: 0.0493 - val_loss: 0.0579\n",
      "Epoch 38/100\n",
      "1/1 [==============================] - 0s 56ms/step - loss: 0.0473 - val_loss: 0.0566\n",
      "Epoch 39/100\n",
      "1/1 [==============================] - 0s 45ms/step - loss: 0.0454 - val_loss: 0.0554\n",
      "Epoch 40/100\n",
      "1/1 [==============================] - 0s 48ms/step - loss: 0.0437 - val_loss: 0.0543\n",
      "Epoch 41/100\n",
      "1/1 [==============================] - 0s 37ms/step - loss: 0.0421 - val_loss: 0.0534\n",
      "Epoch 42/100\n",
      "1/1 [==============================] - 0s 49ms/step - loss: 0.0407 - val_loss: 0.0526\n",
      "Epoch 43/100\n",
      "1/1 [==============================] - 0s 48ms/step - loss: 0.0394 - val_loss: 0.0519\n",
      "Epoch 44/100\n",
      "1/1 [==============================] - 0s 37ms/step - loss: 0.0383 - val_loss: 0.0512\n",
      "Epoch 45/100\n",
      "1/1 [==============================] - 0s 48ms/step - loss: 0.0373 - val_loss: 0.0506\n",
      "Epoch 46/100\n",
      "1/1 [==============================] - 0s 48ms/step - loss: 0.0364 - val_loss: 0.0500\n",
      "Epoch 47/100\n",
      "1/1 [==============================] - 0s 38ms/step - loss: 0.0355 - val_loss: 0.0494\n",
      "Epoch 48/100\n",
      "1/1 [==============================] - 0s 56ms/step - loss: 0.0348 - val_loss: 0.0489\n",
      "Epoch 49/100\n",
      "1/1 [==============================] - 0s 48ms/step - loss: 0.0341 - val_loss: 0.0483\n",
      "Epoch 50/100\n",
      "1/1 [==============================] - 0s 40ms/step - loss: 0.0334 - val_loss: 0.0478\n",
      "Epoch 51/100\n",
      "1/1 [==============================] - 0s 44ms/step - loss: 0.0328 - val_loss: 0.0472\n",
      "Epoch 52/100\n",
      "1/1 [==============================] - 0s 44ms/step - loss: 0.0322 - val_loss: 0.0466\n",
      "Epoch 53/100\n",
      "1/1 [==============================] - 0s 51ms/step - loss: 0.0315 - val_loss: 0.0460\n",
      "Epoch 54/100\n",
      "1/1 [==============================] - 0s 48ms/step - loss: 0.0309 - val_loss: 0.0454\n",
      "Epoch 55/100\n",
      "1/1 [==============================] - 0s 50ms/step - loss: 0.0303 - val_loss: 0.0447\n",
      "Epoch 56/100\n",
      "1/1 [==============================] - 0s 44ms/step - loss: 0.0297 - val_loss: 0.0441\n",
      "Epoch 57/100\n",
      "1/1 [==============================] - 0s 48ms/step - loss: 0.0290 - val_loss: 0.0434\n",
      "Epoch 58/100\n",
      "1/1 [==============================] - 0s 56ms/step - loss: 0.0284 - val_loss: 0.0428\n",
      "Epoch 59/100\n",
      "1/1 [==============================] - 0s 48ms/step - loss: 0.0278 - val_loss: 0.0421\n",
      "Epoch 60/100\n",
      "1/1 [==============================] - 0s 48ms/step - loss: 0.0272 - val_loss: 0.0415\n",
      "Epoch 61/100\n",
      "1/1 [==============================] - 0s 49ms/step - loss: 0.0266 - val_loss: 0.0409\n",
      "Epoch 62/100\n",
      "1/1 [==============================] - 0s 49ms/step - loss: 0.0260 - val_loss: 0.0404\n",
      "Epoch 63/100\n",
      "1/1 [==============================] - 0s 51ms/step - loss: 0.0254 - val_loss: 0.0398\n",
      "Epoch 64/100\n",
      "1/1 [==============================] - 0s 48ms/step - loss: 0.0249 - val_loss: 0.0393\n",
      "Epoch 65/100\n",
      "1/1 [==============================] - 0s 48ms/step - loss: 0.0243 - val_loss: 0.0389\n",
      "Epoch 66/100\n",
      "1/1 [==============================] - 0s 46ms/step - loss: 0.0238 - val_loss: 0.0384\n",
      "Epoch 67/100\n",
      "1/1 [==============================] - 0s 56ms/step - loss: 0.0233 - val_loss: 0.0380\n",
      "Epoch 68/100\n",
      "1/1 [==============================] - 0s 48ms/step - loss: 0.0228 - val_loss: 0.0376\n",
      "Epoch 69/100\n",
      "1/1 [==============================] - 0s 46ms/step - loss: 0.0223 - val_loss: 0.0372\n",
      "Epoch 70/100\n",
      "1/1 [==============================] - 0s 50ms/step - loss: 0.0218 - val_loss: 0.0368\n",
      "Epoch 71/100\n",
      "1/1 [==============================] - 0s 48ms/step - loss: 0.0213 - val_loss: 0.0364\n",
      "Epoch 72/100\n",
      "1/1 [==============================] - 0s 56ms/step - loss: 0.0209 - val_loss: 0.0360\n",
      "Epoch 73/100\n",
      "1/1 [==============================] - 0s 45ms/step - loss: 0.0204 - val_loss: 0.0357\n",
      "Epoch 74/100\n",
      "1/1 [==============================] - 0s 48ms/step - loss: 0.0199 - val_loss: 0.0353\n",
      "Epoch 75/100\n",
      "1/1 [==============================] - 0s 45ms/step - loss: 0.0194 - val_loss: 0.0349\n",
      "Epoch 76/100\n",
      "1/1 [==============================] - 0s 41ms/step - loss: 0.0190 - val_loss: 0.0346\n",
      "Epoch 77/100\n",
      "1/1 [==============================] - 0s 56ms/step - loss: 0.0185 - val_loss: 0.0342\n",
      "Epoch 78/100\n",
      "1/1 [==============================] - 0s 45ms/step - loss: 0.0181 - val_loss: 0.0338\n",
      "Epoch 79/100\n",
      "1/1 [==============================] - 0s 50ms/step - loss: 0.0176 - val_loss: 0.0334\n",
      "Epoch 80/100\n",
      "1/1 [==============================] - 0s 48ms/step - loss: 0.0172 - val_loss: 0.0330\n",
      "Epoch 81/100\n",
      "1/1 [==============================] - 0s 56ms/step - loss: 0.0168 - val_loss: 0.0325\n",
      "Epoch 82/100\n",
      "1/1 [==============================] - 0s 44ms/step - loss: 0.0163 - val_loss: 0.0320\n",
      "Epoch 83/100\n",
      "1/1 [==============================] - 0s 56ms/step - loss: 0.0159 - val_loss: 0.0316\n"
     ]
    },
    {
     "name": "stdout",
     "output_type": "stream",
     "text": [
      "Epoch 84/100\n",
      "1/1 [==============================] - 0s 45ms/step - loss: 0.0154 - val_loss: 0.0310\n",
      "Epoch 85/100\n",
      "1/1 [==============================] - 0s 48ms/step - loss: 0.0150 - val_loss: 0.0305\n",
      "Epoch 86/100\n",
      "1/1 [==============================] - 0s 56ms/step - loss: 0.0146 - val_loss: 0.0300\n",
      "Epoch 87/100\n",
      "1/1 [==============================] - 0s 46ms/step - loss: 0.0142 - val_loss: 0.0294\n",
      "Epoch 88/100\n",
      "1/1 [==============================] - 0s 48ms/step - loss: 0.0138 - val_loss: 0.0288\n",
      "Epoch 89/100\n",
      "1/1 [==============================] - 0s 48ms/step - loss: 0.0133 - val_loss: 0.0282\n",
      "Epoch 90/100\n",
      "1/1 [==============================] - 0s 48ms/step - loss: 0.0129 - val_loss: 0.0277\n",
      "Epoch 91/100\n",
      "1/1 [==============================] - 0s 48ms/step - loss: 0.0125 - val_loss: 0.0271\n",
      "Epoch 92/100\n",
      "1/1 [==============================] - 0s 48ms/step - loss: 0.0122 - val_loss: 0.0265\n",
      "Epoch 93/100\n",
      "1/1 [==============================] - 0s 56ms/step - loss: 0.0118 - val_loss: 0.0259\n",
      "Epoch 94/100\n",
      "1/1 [==============================] - 0s 48ms/step - loss: 0.0114 - val_loss: 0.0253\n",
      "Epoch 95/100\n",
      "1/1 [==============================] - 0s 50ms/step - loss: 0.0110 - val_loss: 0.0247\n",
      "Epoch 96/100\n",
      "1/1 [==============================] - 0s 48ms/step - loss: 0.0107 - val_loss: 0.0242\n",
      "Epoch 97/100\n",
      "1/1 [==============================] - 0s 48ms/step - loss: 0.0103 - val_loss: 0.0236\n",
      "Epoch 98/100\n",
      "1/1 [==============================] - 0s 48ms/step - loss: 0.0100 - val_loss: 0.0231\n",
      "Epoch 99/100\n",
      "1/1 [==============================] - 0s 49ms/step - loss: 0.0096 - val_loss: 0.0226\n",
      "Epoch 100/100\n",
      "1/1 [==============================] - 0s 48ms/step - loss: 0.0093 - val_loss: 0.0222\n"
     ]
    }
   ],
   "source": [
    "history = autoencoder.fit(normal_train_data, normal_train_data, \n",
    "          epochs=100, \n",
    "          batch_size=5000,\n",
    "          validation_data=(test_data, test_data)) "
   ]
  },
  {
   "cell_type": "code",
   "execution_count": 223,
   "id": "b6980aaf",
   "metadata": {},
   "outputs": [
    {
     "name": "stdout",
     "output_type": "stream",
     "text": [
      "Model: \"sequential_7\"\n",
      "_________________________________________________________________\n",
      "Layer (type)                 Output Shape              Param #   \n",
      "=================================================================\n",
      "dense_28 (Dense)             (None, 64)                768       \n",
      "_________________________________________________________________\n",
      "dense_29 (Dense)             (None, 8)                 520       \n",
      "_________________________________________________________________\n",
      "dense_30 (Dense)             (None, 64)                576       \n",
      "_________________________________________________________________\n",
      "dense_31 (Dense)             (None, 11)                715       \n",
      "=================================================================\n",
      "Total params: 2,579\n",
      "Trainable params: 2,579\n",
      "Non-trainable params: 0\n",
      "_________________________________________________________________\n"
     ]
    }
   ],
   "source": [
    "autoencoder.summary()"
   ]
  },
  {
   "cell_type": "code",
   "execution_count": 224,
   "id": "60d1cffc",
   "metadata": {},
   "outputs": [
    {
     "data": {
      "text/plain": [
       "Text(0.5, 0, 'Epoch')"
      ]
     },
     "execution_count": 224,
     "metadata": {},
     "output_type": "execute_result"
    },
    {
     "data": {
      "image/png": "[encoded data removed]",
      "text/plain": [
       "<Figure size 432x288 with 1 Axes>"
      ]
     },
     "metadata": {},
     "output_type": "display_data"
    }
   ],
   "source": [
    "plt.plot(history.history[\"loss\"], linewidth=2, label=\"Training Loss\")\n",
    "plt.plot(history.history[\"val_loss\"], linewidth=2, label=\"Validation Loss\")\n",
    "plt.legend(loc='upper right')\n",
    "plt.title('Model loss')\n",
    "plt.ylabel('Loss')\n",
    "plt.xlabel('Epoch')"
   ]
  },
  {
   "cell_type": "code",
   "execution_count": 225,
   "id": "d7d34a59",
   "metadata": {},
   "outputs": [
    {
     "data": {
      "image/png": "[encoded data removed]",
      "text/plain": [
       "<Figure size 432x288 with 1 Axes>"
      ]
     },
     "metadata": {},
     "output_type": "display_data"
    }
   ],
   "source": [
    "reconstructions = autoencoder.predict(normal_train_data)\n",
    "train_loss = tf.keras.losses.mae(reconstructions, normal_train_data)\n",
    "\n",
    "plt.hist(train_loss[None, :], bins=50)\n",
    "plt.xlabel(\"Train loss\")\n",
    "plt.ylabel(\"No of examples\")\n",
    "plt.show()"
   ]
  },
  {
   "cell_type": "code",
   "execution_count": 226,
   "id": "14aea00f",
   "metadata": {},
   "outputs": [
    {
     "data": {
      "text/plain": [
       "TensorShape([2783])"
      ]
     },
     "execution_count": 226,
     "metadata": {},
     "output_type": "execute_result"
    }
   ],
   "source": [
    "train_loss.shape"
   ]
  },
  {
   "cell_type": "code",
   "execution_count": 235,
   "id": "dba15e19",
   "metadata": {},
   "outputs": [
    {
     "name": "stdout",
     "output_type": "stream",
     "text": [
      "Reconstruction error threshold: 0.12966705166396308\n"
     ]
    }
   ],
   "source": [
    "#threshold = np.max(train_loss) - 2*(np.mean(train_loss) + np.min(train_loss) + np.std(train_loss))\n",
    "threshold = np.mean(train_loss) + 2*np.min(train_loss) + np.std(train_loss)\n",
    "print(f'Reconstruction error threshold: {threshold}')"
   ]
  },
  {
   "cell_type": "code",
   "execution_count": 236,
   "id": "e31ce152",
   "metadata": {
    "scrolled": true
   },
   "outputs": [
    {
     "data": {
      "image/png": "[encoded data removed]",
      "text/plain": [
       "<Figure size 432x288 with 1 Axes>"
      ]
     },
     "metadata": {},
     "output_type": "display_data"
    }
   ],
   "source": [
    "reconstructions = autoencoder.predict(anomalous_test_data)\n",
    "test_loss = tf.keras.losses.mae(reconstructions, anomalous_test_data)\n",
    "\n",
    "plt.hist(test_loss[None, :], bins=50)\n",
    "plt.xlabel(\"Test loss\")\n",
    "plt.ylabel(\"No of examples\")\n",
    "plt.show()"
   ]
  },
  {
   "cell_type": "code",
   "execution_count": 237,
   "id": "8ece5432",
   "metadata": {},
   "outputs": [
    {
     "data": {
      "text/plain": [
       "TensorShape([135])"
      ]
     },
     "execution_count": 237,
     "metadata": {},
     "output_type": "execute_result"
    }
   ],
   "source": [
    "test_loss.shape"
   ]
  },
  {
   "cell_type": "code",
   "execution_count": 238,
   "id": "93178ef7",
   "metadata": {},
   "outputs": [],
   "source": [
    "def predict(model, data, threshold):\n",
    "    reconstructions = model(data)\n",
    "    loss = tf.keras.losses.mae(reconstructions, data)\n",
    "    #return tf.math.less(loss, threshold)\n",
    "    return tf.math.logical_not(tf.math.less(loss, threshold))\n",
    "\n",
    "def print_stats(predictions, labels):\n",
    "    print(\"Accuracy = {}\".format(accuracy_score(labels, preds)))\n",
    "    print(\"Precision = {}\".format(precision_score(labels, preds)))\n",
    "    print(\"Recall = {}\".format(recall_score(labels, preds)))"
   ]
  },
  {
   "cell_type": "code",
   "execution_count": 239,
   "id": "08a4c85b",
   "metadata": {},
   "outputs": [
    {
     "name": "stdout",
     "output_type": "stream",
     "text": [
      "Accuracy = 0.9334140435835351\n",
      "Precision = 0.7702702702702703\n",
      "Recall = 0.8444444444444444\n",
      "\n",
      "Accuracy: 0.9334140435835351 \n",
      "\n",
      "True Positive: 114 \n",
      "True Negative: 657\n",
      "False Positive: 34 \n",
      "False Negative: 21\n",
      "\n",
      "Precision: 0.7702702702702703 \n",
      "Recall: 0.8444444444444444 \n",
      "F1 Score: 0.8056537102473499\n",
      "\n"
     ]
    },
    {
     "data": {
      "text/plain": [
       "1"
      ]
     },
     "execution_count": 239,
     "metadata": {},
     "output_type": "execute_result"
    }
   ],
   "source": [
    "classifier = 'Autoencoder'\n",
    "#threshold = 0.10617140939973232  #with best accuracy\n",
    "preds = predict(autoencoder, test_data, threshold)\n",
    "print_stats(preds, test_labels)\n",
    "get_accuracy(preds, test_labels, classifier)"
   ]
  },
  {
   "cell_type": "code",
   "execution_count": 232,
   "id": "1b12784a",
   "metadata": {},
   "outputs": [
    {
     "name": "stdout",
     "output_type": "stream",
     "text": [
      "26/26 [==============================] - 0s 2ms/step - loss: 0.2258\n"
     ]
    },
    {
     "data": {
      "text/plain": [
       "0.22576680779457092"
      ]
     },
     "execution_count": 232,
     "metadata": {},
     "output_type": "execute_result"
    }
   ],
   "source": [
    "pred = autoencoder.predict(test_data)\n",
    "autoencoder.evaluate(pred, test_labels)"
   ]
  },
  {
   "cell_type": "code",
   "execution_count": 233,
   "id": "0d8038d2",
   "metadata": {},
   "outputs": [
    {
     "data": {
      "text/plain": [
       "(691, 11)"
      ]
     },
     "execution_count": 233,
     "metadata": {},
     "output_type": "execute_result"
    }
   ],
   "source": [
    "test_data[test_labels==0].shape"
   ]
  },
  {
   "cell_type": "markdown",
   "id": "afc532fa",
   "metadata": {},
   "source": [
    "## Classification using Binary Classifiers on Encoded Data"
   ]
  },
  {
   "cell_type": "code",
   "execution_count": 30,
   "id": "84b67825",
   "metadata": {},
   "outputs": [],
   "source": [
    "X_train_encode = autoencoder.predict(train_data)\n",
    "X_test_encode = autoencoder.predict(test_data)"
   ]
  },
  {
   "cell_type": "markdown",
   "id": "3c474526",
   "metadata": {},
   "source": [
    "### Logistic Regression"
   ]
  },
  {
   "cell_type": "code",
   "execution_count": 31,
   "id": "faf74a92",
   "metadata": {},
   "outputs": [
    {
     "name": "stdout",
     "output_type": "stream",
     "text": [
      "\n",
      "Accuracy: 0.9479418886198547 \n",
      "\n",
      "True Positive: 96 \n",
      "True Negative: 687\n",
      "False Positive: 17 \n",
      "False Negative: 26\n",
      "\n",
      "Precision: 0.8495575221238938 \n",
      "Recall: 0.7868852459016393 \n",
      "F1 Score: 0.8170212765957446\n",
      "\n"
     ]
    },
    {
     "data": {
      "image/png": "[encoded data removed]",
      "text/plain": [
       "<Figure size 432x288 with 1 Axes>"
      ]
     },
     "metadata": {},
     "output_type": "display_data"
    }
   ],
   "source": [
    "lr = LogisticRegression(max_iter=10000, solver='liblinear')\n",
    "\n",
    "lr = lr.fit(X_train_encode, train_labels)\n",
    "\n",
    "y_predict = lr.predict(X_test_encode)\n",
    "\n",
    "classifier = 'Logistic Regression'\n",
    "get_accuracy(y_predict, test_labels, classifier)\n",
    "\n",
    "roc_plot(lr, classifier)"
   ]
  },
  {
   "cell_type": "markdown",
   "id": "e2073beb",
   "metadata": {},
   "source": [
    "### Decision Tree"
   ]
  },
  {
   "cell_type": "code",
   "execution_count": 32,
   "id": "ed08be89",
   "metadata": {},
   "outputs": [
    {
     "name": "stdout",
     "output_type": "stream",
     "text": [
      "\n",
      "Accuracy: 0.9552058111380145 \n",
      "\n",
      "True Positive: 88 \n",
      "True Negative: 701\n",
      "False Positive: 3 \n",
      "False Negative: 34\n",
      "\n",
      "Precision: 0.967032967032967 \n",
      "Recall: 0.7213114754098361 \n",
      "F1 Score: 0.8262910798122066\n",
      "\n"
     ]
    },
    {
     "data": {
      "image/png": "[encoded data removed]",
      "text/plain": [
       "<Figure size 432x288 with 1 Axes>"
      ]
     },
     "metadata": {},
     "output_type": "display_data"
    }
   ],
   "source": [
    "dt = DecisionTreeClassifier(criterion='entropy', min_samples_leaf=50, min_samples_split=10)\n",
    "\n",
    "dt = dt.fit(X_train_encode, train_labels)\n",
    "\n",
    "y_predict = dt.predict(X_test_encode)\n",
    "\n",
    "classifier = 'Decision Tree'\n",
    "get_accuracy(y_predict, test_labels, classifier)\n",
    "\n",
    "roc_plot(dt, classifier)"
   ]
  },
  {
   "cell_type": "markdown",
   "id": "79158350",
   "metadata": {},
   "source": [
    "### SMOTE with KNN"
   ]
  },
  {
   "cell_type": "code",
   "execution_count": 33,
   "id": "c4d1a2d6",
   "metadata": {},
   "outputs": [
    {
     "name": "stdout",
     "output_type": "stream",
     "text": [
      "\n",
      "Accuracy: 0.9576271186440678 \n",
      "\n",
      "True Positive: 112 \n",
      "True Negative: 679\n",
      "False Positive: 25 \n",
      "False Negative: 10\n",
      "\n",
      "Precision: 0.8175182481751825 \n",
      "Recall: 0.9180327868852459 \n",
      "F1 Score: 0.8648648648648648\n",
      "\n"
     ]
    },
    {
     "data": {
      "image/png": "[encoded data removed]",
      "text/plain": [
       "<Figure size 432x288 with 1 Axes>"
      ]
     },
     "metadata": {},
     "output_type": "display_data"
    }
   ],
   "source": [
    "s = SMOTE()\n",
    "smote_X, smote_y = s.fit_resample(X_train_encode, train_labels)\n",
    "\n",
    "knn = KNeighborsClassifier(n_neighbors=5)\n",
    "\n",
    "knn = knn.fit(smote_X, smote_y)\n",
    "\n",
    "y_predict = knn.predict(X_test_encode)\n",
    "\n",
    "classifier = 'K Nearest Neighbour'\n",
    "get_accuracy(y_predict, test_labels, classifier)\n",
    "\n",
    "roc_plot(knn, classifier)"
   ]
  },
  {
   "cell_type": "markdown",
   "id": "06b04ee7",
   "metadata": {},
   "source": [
    "### SMOTE with AdaBoost"
   ]
  },
  {
   "cell_type": "code",
   "execution_count": 34,
   "id": "13388ada",
   "metadata": {
    "scrolled": false
   },
   "outputs": [
    {
     "name": "stdout",
     "output_type": "stream",
     "text": [
      "\n",
      "Accuracy: 0.9600484261501211 \n",
      "\n",
      "True Positive: 109 \n",
      "True Negative: 684\n",
      "False Positive: 20 \n",
      "False Negative: 13\n",
      "\n",
      "Precision: 0.8449612403100775 \n",
      "Recall: 0.8934426229508197 \n",
      "F1 Score: 0.8685258964143425\n",
      "\n"
     ]
    },
    {
     "data": {
      "image/png": "[encoded data removed]",
      "text/plain": [
       "<Figure size 432x288 with 1 Axes>"
      ]
     },
     "metadata": {},
     "output_type": "display_data"
    }
   ],
   "source": [
    "s = SMOTE()\n",
    "smote_X, smote_y = s.fit_resample(X_train_encode, train_labels)\n",
    "\n",
    "abc = AdaBoostClassifier(n_estimators=150, random_state=0)\n",
    "\n",
    "abc.fit(smote_X, smote_y)\n",
    "\n",
    "y_predict = abc.predict(X_test_encode)\n",
    "\n",
    "classifier = 'SMOTE with AdaBoost'\n",
    "get_accuracy(y_predict, test_labels, classifier)\n",
    "roc_plot(abc, classifier)"
   ]
  },
  {
   "cell_type": "code",
   "execution_count": null,
   "id": "98270667",
   "metadata": {},
   "outputs": [],
   "source": []
  }
 ],
 "metadata": {
  "kernelspec": {
   "display_name": "Python 3",
   "language": "python",
   "name": "python3"
  },
  "language_info": {
   "codemirror_mode": {
    "name": "ipython",
    "version": 3
   },
   "file_extension": ".py",
   "mimetype": "text/x-python",
   "name": "python",
   "nbconvert_exporter": "python",
   "pygments_lexer": "ipython3",
   "version": "3.8.10"
  }
 },
 "nbformat": 4,
 "nbformat_minor": 5
}
